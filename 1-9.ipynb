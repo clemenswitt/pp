{
 "cells": [
  {
   "metadata": {},
   "cell_type": "markdown",
   "source": [
    "# Aufgabe 1.9 – Summe der geometrischen Folge\n",
    "Für einzugebende Werte von a, q, n soll die Summe der geometrischen Folge $s(n)=a+a*q+a*q^2+a*q^3+....+a*q^n$ berechnet und ausgegeben werden. Testen Sie das Programm mit den Werten:\n",
    "- $a = 1 \\hspace{1cm} q = 2 \\hspace{1cm} n = 10$\n",
    "- $a = 2 \\hspace{1cm} q = 0,75 \\hspace{1cm} n = 20$\n",
    "- $a = 3 \\hspace{1cm} q = 0,5 \\hspace{1cm} n = 10$"
   ],
   "id": "eefe1e583f5a8d22"
  },
  {
   "metadata": {},
   "cell_type": "markdown",
   "source": "### Gegebene Testdaten:",
   "id": "2995975fd8510ba5"
  },
  {
   "metadata": {},
   "cell_type": "code",
   "source": [
    "test_values = [\n",
    "    [1, 2, 10],\n",
    "    [2, 0.75, 20],\n",
    "    [3, 0.5, 10]\n",
    "]"
   ],
   "id": "b0ae5c09bdf59e74",
   "outputs": [],
   "execution_count": null
  },
  {
   "metadata": {},
   "cell_type": "markdown",
   "source": "### Definition der Berechnungsvorschrift zur geometrischen Reihe:",
   "id": "8231f0b17d107c40"
  },
  {
   "metadata": {},
   "cell_type": "code",
   "source": [
    "def geometric_series(a, q, n):\n",
    "    total = 0\n",
    "    for i in range(n):\n",
    "        total += a * q**i\n",
    "    return total"
   ],
   "id": "34e809f7534cbefb",
   "outputs": [],
   "execution_count": null
  },
  {
   "metadata": {},
   "cell_type": "markdown",
   "source": "### Funktionstest:",
   "id": "34062a8ced58acf"
  },
  {
   "metadata": {},
   "cell_type": "code",
   "source": [
    "for row in test_values:\n",
    "    print(f\"Werte: a = {row[0]}, q = {row[1]}, n = {row[2]}     s(n) = {geometric_series(row[0], row[1], row[2])}\")"
   ],
   "id": "7fe067cfb28c8bc7",
   "outputs": [],
   "execution_count": null
  }
 ],
 "metadata": {
  "kernelspec": {
   "display_name": "Python 3",
   "language": "python",
   "name": "python3"
  },
  "language_info": {
   "codemirror_mode": {
    "name": "ipython",
    "version": 2
   },
   "file_extension": ".py",
   "mimetype": "text/x-python",
   "name": "python",
   "nbconvert_exporter": "python",
   "pygments_lexer": "ipython2",
   "version": "2.7.6"
  }
 },
 "nbformat": 4,
 "nbformat_minor": 5
}
