{
 "cells": [
  {
   "metadata": {},
   "cell_type": "markdown",
   "source": [
    "# Aufgabe 1.26 – Arbeit mit Feldern und Zufallszahlen \n",
    "\n",
    "Ein Feld mit max. 50 Elementen vom Typ `double` soll mit float-Zufallszahlen (zwischen $1.0 … 100.0$) belegt werden. Die obere Grenze des Feldes ist variabel ($N = 2 … 50$).\n",
    "Ermitteln Sie aus dem mit Zufallszahlen belegtem Feld das arithmetische Mittel sowie die größte und kleinste Zahl: `MEAN`, `BIG`, `SMALL`. Geben Sie das Ergebnis in tabellarischer Form unter Nutzung des Tabulators `\\t` aus.\n",
    "Sortieren Sie das obige Feld mittels des VerfahrensBubble Sort. Geben Sie das Ergebnis in tabellarischer Form unter Nutzung des Tabulators `\\t` aus!"
   ],
   "id": "3dbc1d1f03e59c19"
  },
  {
   "cell_type": "code",
   "id": "initial_id",
   "metadata": {
    "collapsed": true,
    "ExecuteTime": {
     "end_time": "2024-11-19T10:38:08.621243Z",
     "start_time": "2024-11-19T10:38:08.617984Z"
    }
   },
   "source": [
    "import random\n",
    "\n",
    "def init_field(min_n=2, max_n=50, min_val=1, max_val=100):\n",
    "    return [random.uniform(min_val, max_val) for _ in range(random.randint(min_n, max_n))]"
   ],
   "outputs": [],
   "execution_count": 90
  },
  {
   "metadata": {
    "ExecuteTime": {
     "end_time": "2024-11-19T10:38:08.625580Z",
     "start_time": "2024-11-19T10:38:08.623179Z"
    }
   },
   "cell_type": "code",
   "source": [
    "def bubble_sort(arr):\n",
    "    for i in range(len(arr)):\n",
    "        for j in range(len(arr)-i-1):\n",
    "            if arr[j] > arr[j + 1]:\n",
    "                arr[j], arr[j + 1] = arr[j + 1], arr[j]\n",
    "    return arr"
   ],
   "id": "e67cc063cb346fc6",
   "outputs": [],
   "execution_count": 91
  },
  {
   "metadata": {
    "ExecuteTime": {
     "end_time": "2024-11-19T10:38:08.628939Z",
     "start_time": "2024-11-19T10:38:08.626433Z"
    }
   },
   "cell_type": "code",
   "source": [
    "field = bubble_sort(init_field())\n",
    "MEAN = sum(field) / len(field)\n",
    "SMALL = min(field)\n",
    "BIG = max(field)\n",
    "\n",
    "print(f\"LEN: {len(field)} \\t MEAN: {round(MEAN, 3)} \\t SMALL: {round(SMALL, 3)} \\t BIG: {round(BIG, 3)}\")"
   ],
   "id": "3c34b64e24328c74",
   "outputs": [
    {
     "name": "stdout",
     "output_type": "stream",
     "text": [
      "LEN: 12 \t MEAN: 44.555 \t SMALL: 6.193 \t BIG: 92.674\n"
     ]
    }
   ],
   "execution_count": 92
  }
 ],
 "metadata": {
  "kernelspec": {
   "display_name": "Python 3",
   "language": "python",
   "name": "python3"
  },
  "language_info": {
   "codemirror_mode": {
    "name": "ipython",
    "version": 2
   },
   "file_extension": ".py",
   "mimetype": "text/x-python",
   "name": "python",
   "nbconvert_exporter": "python",
   "pygments_lexer": "ipython2",
   "version": "2.7.6"
  }
 },
 "nbformat": 4,
 "nbformat_minor": 5
}
