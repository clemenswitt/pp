{
 "cells": [
  {
   "metadata": {},
   "cell_type": "markdown",
   "source": [
    "# Aufgabe 1.23 – Schaltjahre und siderisches Jahr der Erde\n",
    "\n",
    "Ein siderisches Jahr für die Erde beträgt 365,256 Tage. Welche Probleme ergeben sich daraus für ein Kalendersystem mit genau 365 Tagen? Schreiben Sie ein C-Programm, das alle Schaltjahre des gregorianischen Kalenders anzeigt. Listen Sie alle Schaltjahre zwischen 1777 (geb. Carl Friedrich Gauß) und 2117 in tabellarischer Form auf.\n",
    "\n",
    "**Hinweise:** Ein Jahr ist ein Schaltjahr, wenn es durch 4 teilbar ist. Ein Jahr, das durch 100 teilbar ist, ist jedoch kein Schaltjahr, es sei denn, es ist auch durch 400 teilbar."
   ],
   "id": "4f3b0ef8926f455"
  },
  {
   "cell_type": "code",
   "id": "initial_id",
   "metadata": {
    "collapsed": true
   },
   "source": [
    "def is_leap_year(year):\n",
    "    return year % 4 == 0 and (year % 100 != 0 or year % 400 == 0)"
   ],
   "outputs": [],
   "execution_count": null
  },
  {
   "metadata": {},
   "cell_type": "code",
   "source": [
    "leap_years = []\n",
    "for year in range(1777, 2177):\n",
    "    if is_leap_year(year): leap_years.append(year)\n",
    "print(leap_years)"
   ],
   "id": "f8023493593d0d64",
   "outputs": [],
   "execution_count": null
  }
 ],
 "metadata": {
  "kernelspec": {
   "display_name": "Python 3",
   "language": "python",
   "name": "python3"
  },
  "language_info": {
   "codemirror_mode": {
    "name": "ipython",
    "version": 2
   },
   "file_extension": ".py",
   "mimetype": "text/x-python",
   "name": "python",
   "nbconvert_exporter": "python",
   "pygments_lexer": "ipython2",
   "version": "2.7.6"
  }
 },
 "nbformat": 4,
 "nbformat_minor": 5
}
