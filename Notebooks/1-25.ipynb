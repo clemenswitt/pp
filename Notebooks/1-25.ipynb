{
 "cells": [
  {
   "metadata": {},
   "cell_type": "markdown",
   "source": [
    "# Aufgabe 1.25 – Determinante einer $3\\times3$-Matrix\n",
    "Die Determinante einer $3\\times3$-Matrix $A$ berechnet sich nach dem folgenden Schema:\n",
    "\n",
    "$$\n",
    "A =\n",
    "\\begin{pmatrix}\n",
    "a_{11} & a_{12} & a_{13} \\\\\n",
    "a_{21} & a_{22} & a_{23} \\\\\n",
    "a_{31} & a_{32} & a_{33}\n",
    "\\end{pmatrix}\n",
    "\n",
    "\\rightarrow\n",
    "\n",
    "\\text{det}(A) = a_{11}a_{22}a_{33} - a_{11}a_{23}a_{32} - a_{12}a_{21}a_{33} + a_{12}a_{23}a_{31} + a_{13}a_{21}a_{32} - a_{13}a_{22}a_{31}\n",
    "$$\n",
    "\n",
    "Schreiben Sie ein Programm, welches ein zweidimensionales Feld mit 3 Zeilen und 3 Spalten mit zufälligen Werten zwischen 1 und 15 belegt und die Determinante berechnet. Trennen Sie die Belegung und Ausgabe der Felder sowie die Berechnung der Determinante in einzelne Funktionen."
   ],
   "id": "63da3a6718765645"
  },
  {
   "cell_type": "code",
   "id": "initial_id",
   "metadata": {
    "collapsed": true
   },
   "source": [
    "import random\n",
    "\n",
    "def init_matrix():\n",
    "    return [[random.randint(1, 15) for _ in range(3)] for _ in range(3)]"
   ],
   "outputs": [],
   "execution_count": null
  },
  {
   "metadata": {},
   "cell_type": "code",
   "source": [
    "def det(matrix):\n",
    "    return (matrix[0][0] * matrix[1][1] * matrix[2][2] +\n",
    "            matrix[0][1] * matrix[1][2] * matrix[2][0] +\n",
    "            matrix[0][2] * matrix[1][0] * matrix[2][1] -\n",
    "            matrix[0][2] * matrix[1][1] * matrix[2][0] -\n",
    "            matrix[0][1] * matrix[1][0] * matrix[2][2] -\n",
    "            matrix[0][0] * matrix[1][2] * matrix[2][1])"
   ],
   "id": "e731d476a4bbd237",
   "outputs": [],
   "execution_count": null
  }
 ],
 "metadata": {
  "kernelspec": {
   "display_name": "Python 3",
   "language": "python",
   "name": "python3"
  },
  "language_info": {
   "codemirror_mode": {
    "name": "ipython",
    "version": 2
   },
   "file_extension": ".py",
   "mimetype": "text/x-python",
   "name": "python",
   "nbconvert_exporter": "python",
   "pygments_lexer": "ipython2",
   "version": "2.7.6"
  }
 },
 "nbformat": 4,
 "nbformat_minor": 5
}
