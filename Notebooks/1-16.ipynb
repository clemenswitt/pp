{
 "cells": [
  {
   "metadata": {},
   "cell_type": "markdown",
   "source": [
    "# Aufgabe 1.16 – Coulombsches Gesetz\n",
    "\n",
    "Das Coulombsche Gesetz wurde von Charles Augustin de Coulomb um 1785 entdeckt. Das Gesetz beschreibt die Kraft, die zwischen zwei Punktladungen wirkt. In skalarer Form und im Vakuum ist die Kraft $F$ demnach:\n",
    "\n",
    "$$F = \\frac{1}{4\\pi\\epsilon_0}\\frac{q_1 \\cdot q_2}{r^2}$$\n",
    "\n",
    "wobei $q_1$, $q_2$ kugelsymmetrisch verteilte Ladungsmengen, $r$ der Abstand zwischen den Mittelpunkten der Ladungsmengen, $\\epsilon_0$ die elektrische Feldkonstante im Vakuum darstellt.\n",
    "\n",
    "Berechnen Sie die Coulombsche Kraft in $kN$ für folgenden Fall:\n",
    "- Zwei Punktladungen $q_1 = 1 As$ und $q_2 = 2 As$ im Abstand von $r = 1m$\n",
    "\n",
    "Erweitern Sie das Quellprogramm. Erstellen Sie eine Tabelle, welche die Coulombsche Kraft als Funktion $F(r)$ in Abhängigkeit von der Entfernung $r$ darstellt. \n",
    "\n",
    "**Hinweis:** Geben Sie das Ergebnis in tabellarischer Form unter Nutzung des Tabulators `\\t` aus! Nutzen Sie den Wertebereich $r=1mm$ bis $100m$ in logarithmisch aufsteigenden Schritten! Erweitern Sie das Programm um eine Kommandoeingabe, welche dem User erlaubt, die Maßeinheiten zu wählen sowie mehrere Werte einzugeben.\n",
    "   "
   ],
   "id": "e725ca33f896551d"
  },
  {
   "metadata": {},
   "cell_type": "markdown",
   "source": "### Funktion zur Berechnung des Coulombschen Gesetzes",
   "id": "3f80007bd29fb3e0"
  },
  {
   "cell_type": "code",
   "id": "initial_id",
   "metadata": {
    "collapsed": true
   },
   "source": [
    "import math\n",
    "\n",
    "def coulomb(q1, q2, r):\n",
    "    return (q1 * q2) / (4 * math.pi * 8.85e-12 * r**2)"
   ],
   "outputs": [],
   "execution_count": null
  },
  {
   "metadata": {},
   "cell_type": "markdown",
   "source": "### Funktionstest $\\rightarrow$ Berechnung der Kraft $F$ für $q_1 = 1 As$, $q_2 = 2 As$ und $r = 1m$",
   "id": "5f3805f3ea2635ef"
  },
  {
   "metadata": {},
   "cell_type": "code",
   "source": "print(f\"{round(coulomb(1, 2, 1) / 1000, 3)} kN\")",
   "id": "4181bd77c90f6b0a",
   "outputs": [],
   "execution_count": null
  },
  {
   "metadata": {},
   "cell_type": "markdown",
   "source": [
    "### Funktion zur Erstellung einer logarithmischen Wertereihe\n",
    "Im gezeigten Beispiel erfolgt die Werterstellung in Abhängigkeit eines Startexponenten `start_exp` und eines Endexponenten `end_exp`. Ausgehend von `start_exp` werden anschließend `steps - 1` Werte mit gleichem logarithmischen Abstand generiert, bis `end_exp` erreicht ist."
   ],
   "id": "351522313c8df5ec"
  },
  {
   "metadata": {},
   "cell_type": "code",
   "source": [
    "start_exp = -3 # 1*10^-3m = 1mm \n",
    "end_exp = 2 # 1*10^2m = 100m\n",
    "steps = 100\n",
    "\n",
    "def loagarithmic_row(start_exp, end_exp, steps):\n",
    "    return [10 ** (start_exp + i * (end_exp - start_exp) / (steps - 1)) for i in range(steps)]"
   ],
   "id": "3e1f07692ee006d8",
   "outputs": [],
   "execution_count": null
  },
  {
   "metadata": {},
   "cell_type": "markdown",
   "source": "### Ausgabefunktion ",
   "id": "148d1c33c4fc87f4"
  },
  {
   "metadata": {},
   "cell_type": "code",
   "source": [
    "def print_row(row):\n",
    "    print(\"\\t\\t\\t\".join(map(str, row)))"
   ],
   "id": "d9e9614b570501f5",
   "outputs": [],
   "execution_count": null
  },
  {
   "metadata": {},
   "cell_type": "markdown",
   "source": [
    "### Ausgabe und Berechnung der Kraftwerte $F$ für die erstellte logarithmische Wertereihe\n",
    "**Hinweis:** Als Startwert für die Funktion `logarithmic_row()` wird der Exponent `-3` gewählt, da $10^{-3}m = 1mm$. Als Endwert wird analog der Exponent `2` gewählt, da $10^2m = 100m$."
   ],
   "id": "df6d79203a019f8e"
  },
  {
   "metadata": {},
   "cell_type": "code",
   "source": [
    "values = loagarithmic_row(-3, 2, 100)\n",
    "print_row([\"r [m]\", \"F [kN]\"])\n",
    "for value in values:\n",
    "    print_row([round(value, 5), round(coulomb(1, 2, value) / 1000, 5)])"
   ],
   "id": "c5637b70f19d6567",
   "outputs": [],
   "execution_count": null
  },
  {
   "metadata": {},
   "cell_type": "markdown",
   "source": "### Alternative Ausgabe mithilfe der Bibliothek PrettyTable",
   "id": "664c35a05237f8f1"
  },
  {
   "metadata": {},
   "cell_type": "code",
   "source": [
    "from prettytable import PrettyTable\n",
    "\n",
    "table = PrettyTable()\n",
    "table.field_names = [\"r [m]\", \"F [kN]\"]\n",
    "for value in values:\n",
    "    table.add_row([round(value, 5), round(coulomb(1, 2, value) / 1000, 5)])\n",
    "print(table)"
   ],
   "id": "947128f82c9ba57f",
   "outputs": [],
   "execution_count": null
  }
 ],
 "metadata": {
  "kernelspec": {
   "display_name": "Python 3",
   "language": "python",
   "name": "python3"
  },
  "language_info": {
   "codemirror_mode": {
    "name": "ipython",
    "version": 2
   },
   "file_extension": ".py",
   "mimetype": "text/x-python",
   "name": "python",
   "nbconvert_exporter": "python",
   "pygments_lexer": "ipython2",
   "version": "2.7.6"
  }
 },
 "nbformat": 4,
 "nbformat_minor": 5
}
