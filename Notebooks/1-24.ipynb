{
 "cells": [
  {
   "metadata": {},
   "cell_type": "markdown",
   "source": [
    "# 1.24 – Sortierung eines Zufallsarrays mit reellen Zahlen\n",
    "\n",
    "Schreiben Sie Programm mit einer Funktion, welche ein mit Zufallszahlen belegtes Feld nach dem Bubble-Sort-Verfahren sortiert. "
   ],
   "id": "160fe5ad83288b9"
  },
  {
   "cell_type": "code",
   "id": "initial_id",
   "metadata": {
    "collapsed": true
   },
   "source": [
    "def bubble_sort(arr):\n",
    "    for i in range(len(arr)):\n",
    "        for j in range(len(arr)-i-1):\n",
    "            if arr[j] > arr[j + 1]:\n",
    "                arr[j], arr[j + 1] = arr[j + 1], arr[j]\n",
    "    return arr"
   ],
   "outputs": [],
   "execution_count": null
  },
  {
   "metadata": {
    "ExecuteTime": {
     "end_time": "2024-11-19T10:21:23.849136Z",
     "start_time": "2024-11-19T10:21:23.845208Z"
    }
   },
   "cell_type": "code",
   "source": [
    "import random\n",
    "\n",
    "def random_arr(length=50, low=0, high=100):\n",
    "    arr = []\n",
    "    for i in range(length):\n",
    "        arr.append(random.uniform(low, high))\n",
    "    return arr"
   ],
   "id": "7c1cb1d5ddcb4728",
   "outputs": [],
   "execution_count": 26
  },
  {
   "metadata": {
    "ExecuteTime": {
     "end_time": "2024-11-19T10:21:24.492523Z",
     "start_time": "2024-11-19T10:21:24.488942Z"
    }
   },
   "cell_type": "code",
   "source": "print(bubble_sort(random_arr()))",
   "id": "3daea6ff51a0bfdf",
   "outputs": [
    {
     "name": "stdout",
     "output_type": "stream",
     "text": [
      "[1.227991132821804, 1.3817674372124555, 3.0202247931991333, 3.240394843144756, 4.142546655687418, 7.527495524183392, 7.960716184260985, 11.110583538856545, 12.527051265444722, 13.366748657569538, 13.40706403621602, 13.565992698821393, 17.0482518123671, 17.15304243268452, 22.703005961031742, 24.5748375225207, 33.11146321222998, 33.753694154453974, 33.88075199501236, 34.756996448833696, 34.956561492228325, 35.787336336282536, 35.91113876894506, 36.4431233431451, 38.5146225744585, 41.00456425890135, 42.202275827768965, 52.80905430486924, 53.76142962947296, 54.76251634779432, 56.80494607904395, 58.89943059484637, 59.062120264546216, 62.92680417204659, 64.22261415463954, 66.93455913980458, 67.1890801010373, 73.80031413921657, 74.97353116076454, 78.2282995335621, 79.73208406895925, 81.04404852122751, 82.66338366788084, 83.39653068199576, 84.80728357467329, 86.48844367630348, 91.33207899310388, 95.71286713454109, 98.01751476650205, 99.57400138383527]\n"
     ]
    }
   ],
   "execution_count": 27
  },
  {
   "metadata": {},
   "cell_type": "code",
   "outputs": [],
   "execution_count": null,
   "source": "",
   "id": "17d62f5ffd4cd4ec"
  }
 ],
 "metadata": {
  "kernelspec": {
   "display_name": "Python 3",
   "language": "python",
   "name": "python3"
  },
  "language_info": {
   "codemirror_mode": {
    "name": "ipython",
    "version": 2
   },
   "file_extension": ".py",
   "mimetype": "text/x-python",
   "name": "python",
   "nbconvert_exporter": "python",
   "pygments_lexer": "ipython2",
   "version": "2.7.6"
  }
 },
 "nbformat": 4,
 "nbformat_minor": 5
}
