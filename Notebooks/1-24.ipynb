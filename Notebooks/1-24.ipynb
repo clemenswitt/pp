{
 "cells": [
  {
   "metadata": {},
   "cell_type": "markdown",
   "source": [
    "# 1.24 – Sortierung eines Zufallsarrays mit reellen Zahlen\n",
    "\n",
    "Schreiben Sie Programm mit einer Funktion, welche ein mit Zufallszahlen belegtes Feld nach dem Bubble-Sort-Verfahren sortiert. "
   ],
   "id": "160fe5ad83288b9"
  },
  {
   "metadata": {},
   "cell_type": "markdown",
   "source": "### Funktion – BubbleSort-Algorithmus",
   "id": "f3528f5ef361edf4"
  },
  {
   "cell_type": "code",
   "id": "initial_id",
   "metadata": {
    "collapsed": true
   },
   "source": [
    "def bubble_sort(arr):\n",
    "    for i in range(len(arr)):\n",
    "        for j in range(len(arr)-i-1):\n",
    "            if arr[j] > arr[j + 1]:\n",
    "                arr[j], arr[j + 1] = arr[j + 1], arr[j]\n",
    "    return arr"
   ],
   "outputs": [],
   "execution_count": null
  },
  {
   "metadata": {},
   "cell_type": "markdown",
   "source": "### Funktion zur Erstellung eines Float-Arrays mit zufälliger Ausgangsbelegung",
   "id": "ccd7f0b981f17db9"
  },
  {
   "metadata": {},
   "cell_type": "code",
   "source": [
    "import random\n",
    "\n",
    "def random_arr(length=50, low=0, high=100):\n",
    "    arr = []\n",
    "    for i in range(length):\n",
    "        arr.append(random.uniform(low, high))\n",
    "    return arr"
   ],
   "id": "7c1cb1d5ddcb4728",
   "outputs": [],
   "execution_count": null
  },
  {
   "metadata": {},
   "cell_type": "markdown",
   "source": "### Funktionsaufruf",
   "id": "261b934f6bda63a4"
  },
  {
   "metadata": {},
   "cell_type": "code",
   "source": "print(bubble_sort(random_arr()))",
   "id": "3daea6ff51a0bfdf",
   "outputs": [],
   "execution_count": null
  }
 ],
 "metadata": {
  "kernelspec": {
   "display_name": "Python 3",
   "language": "python",
   "name": "python3"
  },
  "language_info": {
   "codemirror_mode": {
    "name": "ipython",
    "version": 2
   },
   "file_extension": ".py",
   "mimetype": "text/x-python",
   "name": "python",
   "nbconvert_exporter": "python",
   "pygments_lexer": "ipython2",
   "version": "2.7.6"
  }
 },
 "nbformat": 4,
 "nbformat_minor": 5
}
