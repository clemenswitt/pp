{
 "cells": [
  {
   "metadata": {},
   "cell_type": "markdown",
   "source": [
    "# Aufgabe 1.5 – Quadratische Gleichungen in pq-Form und Wurzelberechnung nach Heron\n",
    "Erstellen Sie ein Programm zur Berechnung der Nullstellen einer quadratischen Gleichung. Anstelle der Standardfunktion sqrt() nutzen Sie den Algorithmus des Berechnens der Quadratwurzel mittels des Heron von Alexandria:\n",
    "$$ x^2+px+q=0 $$\n",
    "$$ x_{1,2} = - \\frac{p}{2} \\pm \\sqrt{(\\frac{p}{2})^2-q}$$"
   ],
   "id": "c0ddfaa2ca542bd6"
  },
  {
   "metadata": {},
   "cell_type": "markdown",
   "source": "### Vorgegebene Testdaten",
   "id": "935b0c86ebf210c6"
  },
  {
   "metadata": {},
   "cell_type": "code",
   "source": [
    "test_equations = [\n",
    "    \"x**2+2*x-15=0\",\n",
    "    \"x**2+5.5*x-30.6=0\",\n",
    "    \"x**2+0*x+64=0\"\n",
    "]"
   ],
   "id": "5206bd37070cf5fc",
   "outputs": [],
   "execution_count": null
  },
  {
   "metadata": {},
   "cell_type": "markdown",
   "source": [
    "# Heron-Verfahren zur Annäherung an die Quadratwurzel\n",
    "Das Heron-Verfahren beschreibt ein historisches Verfahren zur Annäherung an die Quadratwurzel einer reellen Zahl $r$. Hierbei ist zunächst die Festlegung eines Toleranzwerts $t$ erforderlich, bei dessen Unterschreiten die Näherung abgebrochen wird.\n",
    "\n",
    "Der Näherungswert der Quadratwurzel $x_n$ wird zunächst mit einem Startwert belegt. Anschließend wird überprüft, ob das Quadrat des Startwerts bereits annähernd $r$ entspricht:\n",
    "\n",
    "$$ y = x^2 - r $$\n",
    "\n",
    "Gilt $y < t$, ist die Annäherung der Quadratwurzel von $r$ abgeschlossen. Ist dies nicht der Fall, wird $x_n$ sukzessive nach folgender Vorschrift modifiziert:\n",
    "\n",
    "$$ x_{n+1} = \\frac{x_n + \\frac{r}{x_n}}{2} $$\n",
    "\n",
    "Der Algorithmus wiederholt diesen Vorgang, bis der Toleranzwert $t$ unterschritten wird."
   ],
   "id": "d99df1cf6d6699af"
  },
  {
   "cell_type": "code",
   "id": "initial_id",
   "metadata": {
    "collapsed": true
   },
   "source": [
    "def heron(x, x_n=1.0, t=1e-10):\n",
    "    if abs(x_n * x_n - x) < t:\n",
    "        return x_n\n",
    "    return heron(x, (x_n + x / x_n) / 2)"
   ],
   "outputs": [],
   "execution_count": null
  },
  {
   "metadata": {},
   "cell_type": "markdown",
   "source": "### Funktion zur Nullstellenberechnung",
   "id": "59b4ff6adc28da98"
  },
  {
   "metadata": {},
   "cell_type": "code",
   "source": [
    "def nst(p, q):\n",
    "    if q > p**2 / 4: return \"Die Funktion besitzt keine Nullstellen.\"\n",
    "    a = -p / 2\n",
    "    b = heron((p/2)**2 - q)\n",
    "    return a + b, a - b"
   ],
   "id": "1321393650462283",
   "outputs": [],
   "execution_count": null
  },
  {
   "metadata": {},
   "cell_type": "markdown",
   "source": "### Testdaten parsen",
   "id": "2218556c454f39ba"
  },
  {
   "metadata": {},
   "cell_type": "code",
   "source": [
    "import re\n",
    "\n",
    "def extract_pq(equation):\n",
    "    match = re.search(r\"x\\*\\*2([+-]?\\d*\\.?\\d*)\\*x([+-]?\\d*\\.?\\d*)=0\", equation.replace(\" \", \"\"))\n",
    "    if match:\n",
    "        p = float(match.group(1)) if match.group(1) not in [\"\", \"+\"] else 1.0\n",
    "        q = float(match.group(2)) if match.group(2) != \"\" else 0.0\n",
    "        return p, q\n",
    "    return None, None"
   ],
   "id": "361b856c207dc40",
   "outputs": [],
   "execution_count": null
  },
  {
   "metadata": {},
   "cell_type": "markdown",
   "source": "### Nullstellen der Testdaten ausgeben",
   "id": "898475d243d289f3"
  },
  {
   "metadata": {},
   "cell_type": "code",
   "source": [
    "for equation in test_equations:\n",
    "    p, q = extract_pq(equation)\n",
    "    print(nst(p, q))"
   ],
   "id": "9061393e3cbb8427",
   "outputs": [],
   "execution_count": null
  }
 ],
 "metadata": {
  "kernelspec": {
   "display_name": "Python 3",
   "language": "python",
   "name": "python3"
  },
  "language_info": {
   "codemirror_mode": {
    "name": "ipython",
    "version": 2
   },
   "file_extension": ".py",
   "mimetype": "text/x-python",
   "name": "python",
   "nbconvert_exporter": "python",
   "pygments_lexer": "ipython2",
   "version": "2.7.6"
  }
 },
 "nbformat": 4,
 "nbformat_minor": 5
}
