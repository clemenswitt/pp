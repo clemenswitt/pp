{
 "cells": [
  {
   "metadata": {},
   "cell_type": "markdown",
   "source": [
    "# Aufgabe 1.15 – SI-konforme Umwandlung angloamerikanischer Maßeinheiten\n",
    "\n",
    "Erweitern Sie Ihr Programm aus Aufgabe 1.14 um die Umrechnung folgender angloamerikanischer Maßeinheiten:\n",
    "-   Fuß in dm, \n",
    "-\tYard in Meter, \n",
    "-\tMeile in km,\n",
    "-\tOunces in Gramm,\n",
    "-\tPfund (lbs) in kg\t\n",
    "\n",
    "**Hinweis:** Geben Sie das Ergebnis in tabellarischer Form unter Nutzung des Tabulators `\\t` aus:\n",
    "\n",
    "| Nr. | Nichtmetrische Eingabe | Metrische (SI-) Ausgabe |\n",
    "|-----|------------------------|-------------------------|\n",
    "\n",
    "Ergänzen Sie das Programm um ein Eingabemenü, welches dem User erlaubt, die Maßeinheiten zu wählen sowie mehrere Werte einzugeben."
   ],
   "id": "28e018f34f0528f5"
  },
  {
   "metadata": {},
   "cell_type": "markdown",
   "source": "### Dictionary zur Wertumrechnung",
   "id": "39d6947dadb4f04b"
  },
  {
   "cell_type": "code",
   "id": "initial_id",
   "metadata": {
    "collapsed": true
   },
   "source": [
    "conversion_dict = {\n",
    "    1: [\"ft\", \"dm\", 3.048], # Fuß -> dm\n",
    "    2: [\"yd\", \"m\", .9144], # Yard -> m\n",
    "    3: [\"mi\", \"km\", 1.60934], # Meile -> km\n",
    "    4: [\"oz\", \"g\", 28.3495], # Unze -> g\n",
    "    5: [\"lb\", \"kg\", .453592] # Pfund -> kg \n",
    "}"
   ],
   "outputs": [],
   "execution_count": null
  },
  {
   "metadata": {},
   "cell_type": "markdown",
   "source": "### Funktion zur Wertumrechnung",
   "id": "b18c370e0149ddc7"
  },
  {
   "metadata": {},
   "cell_type": "code",
   "source": [
    "def si_conversion(option, value):\n",
    "    return value * conversion_dict[option][2]"
   ],
   "id": "d230f90f2646955b",
   "outputs": [],
   "execution_count": null
  },
  {
   "metadata": {},
   "cell_type": "markdown",
   "source": "### Ausgabefunktion",
   "id": "6af5b2908f14dbf0"
  },
  {
   "metadata": {},
   "cell_type": "code",
   "source": [
    "def print_row(values): # Format values: [Nr., nichtmetrischer Wert, metrischer Wert]\n",
    "    print('\\t\\t\\t'.join(map(str, values)))"
   ],
   "id": "c7713dad6ef91fa2",
   "outputs": [],
   "execution_count": null
  },
  {
   "metadata": {},
   "cell_type": "markdown",
   "source": "### Testfunktion",
   "id": "6c700773f46de28"
  },
  {
   "metadata": {},
   "cell_type": "code",
   "source": [
    "row_count = 0\n",
    "print_row([\"Nr.\", \"Nichtmetrische Eingabe\", \"Metrische Ausgabe\"])\n",
    "\n",
    "while True:\n",
    "    option_input = int(input(f\"Wählen Sie eine Option: \\n\"\n",
    "                             f\"{'\\n'.join([str(key) + \":    \" + \n",
    "                                             str(conversion_dict[key][0]) + \" -> \" + \n",
    "                                             str(conversion_dict[key][1]) \n",
    "                                             for key in conversion_dict])}\"))\n",
    "\n",
    "    if option_input == 0:\n",
    "        break\n",
    "    \n",
    "    value_input = float(input(f\"Geben Sie einen Wert in {conversion_dict[option_input][0]} ein: \"))\n",
    "\n",
    "    row_count += 1\n",
    "    print_row([row_count, f\"{value_input} {conversion_dict[option_input][0]}\", f\"{si_conversion(option_input, value_input)} {conversion_dict[option_input][1]}\"])"
   ],
   "id": "1fd44eb02d4926e3",
   "outputs": [],
   "execution_count": null
  }
 ],
 "metadata": {
  "kernelspec": {
   "display_name": "Python 3",
   "language": "python",
   "name": "python3"
  },
  "language_info": {
   "codemirror_mode": {
    "name": "ipython",
    "version": 2
   },
   "file_extension": ".py",
   "mimetype": "text/x-python",
   "name": "python",
   "nbconvert_exporter": "python",
   "pygments_lexer": "ipython2",
   "version": "2.7.6"
  }
 },
 "nbformat": 4,
 "nbformat_minor": 5
}
