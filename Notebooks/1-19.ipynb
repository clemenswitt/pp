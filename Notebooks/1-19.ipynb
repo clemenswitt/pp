{
 "cells": [
  {
   "metadata": {},
   "cell_type": "markdown",
   "source": [
    "# Aufgabe 1.19 – Erde-, Mond- und Marsschwerkraft\n",
    "\n",
    "Die Mondschwerkraft beträgt etwa 17% der Erdschwerkraft. Schreiben Sie ein Programm, das eine Tabelle erstellt, die die Masse $m$ eines Gegenstandes, das entsprechende Gewicht auf der Erde `gerde` und das entsprechende Mondgewicht `gmond` zeigt. Geben Sie das Ergebnis in tabellarischer Form unter Nutzung des Tabulators `\\t` aus. Nutzen Sie den Bereich 1 bis 500kg in 5kg-Schritten.\n",
    "\n",
    "**Hinweis:** Das Gewicht wird berechnet über die Beziehung $Gewicht = Masse \\cdot Beschleunigung$. Die Masse des Gegenstandes ist überall konstant. Die Normfallerdbeschleunigung $G_\n",
    "{Erde}= 9,81\\frac{m}{s^2}$.\n",
    "\n",
    "Erweitern Sie das Programm um eine weitere Tabellenspalte, in der Sie das Marsgewicht `gmars` berechnen. Die Normalfallbeschleunigung auf dem Mars beträgt $G_\n",
    "{Mars}= 3,69\\frac{m}{s^2}$.\n",
    "\n"
   ],
   "id": "d2ee1b46fe524bf8"
  },
  {
   "metadata": {},
   "cell_type": "markdown",
   "source": "### Definition der Funktion zur Berechnung der Gewichtskraft:",
   "id": "7e7b3459d147f711"
  },
  {
   "cell_type": "code",
   "id": "initial_id",
   "metadata": {
    "collapsed": true
   },
   "source": [
    "g_erde = 9.81\n",
    "g_mond = 0.17 * g_erde\n",
    "g_mars = 3.69\n",
    "\n",
    "def calc_fg(m):\n",
    "    return [m, m * g_erde, m * g_mond, m * g_mars]"
   ],
   "outputs": [],
   "execution_count": null
  },
  {
   "metadata": {},
   "cell_type": "markdown",
   "source": "### Definition der Ausgabefunktion",
   "id": "14d2a191bc08cefc"
  },
  {
   "metadata": {},
   "cell_type": "code",
   "source": [
    "def print_row(row):\n",
    "    print(\"\\t\\t\\t\".join(map(str, row)))"
   ],
   "id": "1883ebdda2d89b01",
   "outputs": [],
   "execution_count": null
  },
  {
   "metadata": {},
   "cell_type": "markdown",
   "source": "### Testschleife",
   "id": "621270ffd35106d2"
  },
  {
   "metadata": {},
   "cell_type": "code",
   "source": [
    "values = list(range(1, 500, 5))\n",
    "\n",
    "print_row([\"m [kg]\", \"F Erde [N]\", \"F Mond [N]\", \"F Mars [N]\"])\n",
    "for value in values:\n",
    "    print_row([round(x, 2) for x in calc_fg(value)])"
   ],
   "id": "fa1db2a4df456398",
   "outputs": [],
   "execution_count": null
  },
  {
   "metadata": {},
   "cell_type": "markdown",
   "source": "### Alternative Ausgabe mithilfe der Bibliothek PrettyTable",
   "id": "bbefd059e7975fb6"
  },
  {
   "metadata": {},
   "cell_type": "code",
   "source": [
    "from prettytable import PrettyTable\n",
    "table = PrettyTable()\n",
    "table.field_names = [\"m [kg]\", \"F Erde [N]\", \"F Mond [N]\", \"F Mars [N]\"]\n",
    "values = list(range(1, 500, 5))\n",
    "for value in values:\n",
    "    table.add_row([round(x, 2) for x in calc_fg(value)])\n",
    "print(table)"
   ],
   "id": "3c56938edfd56ed8",
   "outputs": [],
   "execution_count": null
  }
 ],
 "metadata": {
  "kernelspec": {
   "display_name": "Python 3",
   "language": "python",
   "name": "python3"
  },
  "language_info": {
   "codemirror_mode": {
    "name": "ipython",
    "version": 2
   },
   "file_extension": ".py",
   "mimetype": "text/x-python",
   "name": "python",
   "nbconvert_exporter": "python",
   "pygments_lexer": "ipython2",
   "version": "2.7.6"
  }
 },
 "nbformat": 4,
 "nbformat_minor": 5
}
