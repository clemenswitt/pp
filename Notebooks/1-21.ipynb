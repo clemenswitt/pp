{
 "cells": [
  {
   "metadata": {},
   "cell_type": "markdown",
   "source": [
    "# Aufgabe 1.21 – Suche nach einem auftretendem Zeichen\n",
    "\n",
    "Schreiben Sie ein Programm, welches Textzeilen bis zum ersten Vorkommen eines Punktes einliest. Analysieren Sie die Häufigkeit des Auftretens der einzelnen Buchstaben \n",
    "(Groß-/Kleinschreibung nicht berücksichtigen sowie Leer- und Sonderzeichen ignorieren) nach der Eingabe einer Textzeile. Geben Sie am Schluss die Statistik aus.\n"
   ],
   "id": "c9972097b1fd10ca"
  },
  {
   "metadata": {},
   "cell_type": "markdown",
   "source": [
    "### Funktion zum Einlesen eines Satzes\n",
    "Rückgabe aller Zeichen vor erstem Punkt `.`"
   ],
   "id": "bfa8c1e2a18930ed"
  },
  {
   "cell_type": "code",
   "id": "initial_id",
   "metadata": {
    "collapsed": true
   },
   "source": [
    "def read_sentence():\n",
    "    inp = input(\"Geben Sie den zu analysierenden Satz ein: \")\n",
    "    return inp.split('.')[0]"
   ],
   "outputs": [],
   "execution_count": null
  },
  {
   "metadata": {},
   "cell_type": "markdown",
   "source": "### Funktion zur Analyse der Zeichenhäufigkeiten eines übergebenen Satzes",
   "id": "9d55b6545219ef9e"
  },
  {
   "metadata": {},
   "cell_type": "code",
   "source": [
    "def analyze_sentence(sentence):\n",
    "    sentence = sentence.lower()\n",
    "    letter_count = {} \n",
    "    for letter in list(sentence):\n",
    "        if letter_count.get(letter): letter_count[letter] += 1\n",
    "        else: letter_count[letter] = 1\n",
    "    return letter_count"
   ],
   "id": "71d7921e7dbb81d8",
   "outputs": [],
   "execution_count": null
  },
  {
   "metadata": {},
   "cell_type": "markdown",
   "source": "### Funktion zur tabellarischen Ausgabe der Zeichenhäufigkeiten",
   "id": "fed79988f1d11d67"
  },
  {
   "metadata": {},
   "cell_type": "code",
   "source": [
    "from prettytable import PrettyTable\n",
    "\n",
    "def letter_count_table(letter_count):\n",
    "    table = PrettyTable()\n",
    "    table.field_names = [\"Zeichen\", \"Anzahl\"]\n",
    "    for letter, count in letter_count.items():\n",
    "        table.add_row([letter, count])\n",
    "    return table"
   ],
   "id": "ca6185979690f6a1",
   "outputs": [],
   "execution_count": null
  },
  {
   "metadata": {},
   "cell_type": "markdown",
   "source": "### Funktionsaufruf",
   "id": "951f0e2f29588a9f"
  },
  {
   "metadata": {},
   "cell_type": "code",
   "source": "print(letter_count_table(analyze_sentence(read_sentence())))",
   "id": "bbaa637dd6057330",
   "outputs": [],
   "execution_count": null
  }
 ],
 "metadata": {
  "kernelspec": {
   "display_name": "Python 3",
   "language": "python",
   "name": "python3"
  },
  "language_info": {
   "codemirror_mode": {
    "name": "ipython",
    "version": 2
   },
   "file_extension": ".py",
   "mimetype": "text/x-python",
   "name": "python",
   "nbconvert_exporter": "python",
   "pygments_lexer": "ipython2",
   "version": "2.7.6"
  }
 },
 "nbformat": 4,
 "nbformat_minor": 5
}
