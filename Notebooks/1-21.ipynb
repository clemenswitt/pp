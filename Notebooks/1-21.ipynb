{
 "cells": [
  {
   "metadata": {},
   "cell_type": "markdown",
   "source": [
    "# Aufgabe 1.21 – Suche nach einem auftretendem Zeichen\n",
    "\n",
    "Schreiben Sie ein Programm, welches Textzeilen bis zum ersten Vorkommen eines Punktes einliest. Analysieren Sie die Häufigkeit des Auftretens der einzelnen Buchstaben \n",
    "(Groß-/Kleinschreibung nicht berücksichtigen sowie Leer- und Sonderzeichen ignorieren) nach der Eingabe einer Textzeile. Geben Sie am Schluss die Statistik aus.\n"
   ],
   "id": "c9972097b1fd10ca"
  },
  {
   "cell_type": "code",
   "id": "initial_id",
   "metadata": {
    "collapsed": true,
    "ExecuteTime": {
     "end_time": "2024-11-19T08:47:57.320377Z",
     "start_time": "2024-11-19T08:47:57.317927Z"
    }
   },
   "source": [
    "def read_sentence():\n",
    "    inp = input(\"Geben Sie den zu analysierenden Satz ein: \")\n",
    "    return inp.split('.')[0]"
   ],
   "outputs": [],
   "execution_count": 9
  },
  {
   "metadata": {
    "ExecuteTime": {
     "end_time": "2024-11-19T08:47:57.324105Z",
     "start_time": "2024-11-19T08:47:57.321868Z"
    }
   },
   "cell_type": "code",
   "source": [
    "def analyze_sentence(sentence):\n",
    "    sentence = sentence.lower()\n",
    "    letter_count = {} \n",
    "    for letter in list(sentence):\n",
    "        if letter_count.get(letter): letter_count[letter] += 1\n",
    "        else: letter_count[letter] = 1\n",
    "    return letter_count"
   ],
   "id": "71d7921e7dbb81d8",
   "outputs": [],
   "execution_count": 10
  },
  {
   "metadata": {
    "ExecuteTime": {
     "end_time": "2024-11-19T08:47:57.327279Z",
     "start_time": "2024-11-19T08:47:57.325102Z"
    }
   },
   "cell_type": "code",
   "source": [
    "from prettytable import PrettyTable\n",
    "\n",
    "def letter_count_table(letter_count):\n",
    "    table = PrettyTable()\n",
    "    table.field_names = [\"Buchstabe\", \"Anzahl\"]\n",
    "    for letter, count in letter_count.items():\n",
    "        table.add_row([letter, count])\n",
    "    return table"
   ],
   "id": "ca6185979690f6a1",
   "outputs": [],
   "execution_count": 11
  },
  {
   "metadata": {
    "ExecuteTime": {
     "end_time": "2024-11-19T08:48:03.989851Z",
     "start_time": "2024-11-19T08:47:57.328490Z"
    }
   },
   "cell_type": "code",
   "source": "print(letter_count_table(analyze_sentence(read_sentence())))",
   "id": "bbaa637dd6057330",
   "outputs": [
    {
     "name": "stdout",
     "output_type": "stream",
     "text": [
      "+-----------+--------+\n",
      "| Buchstabe | Anzahl |\n",
      "+-----------+--------+\n",
      "|     h     |   1    |\n",
      "|     a     |   3    |\n",
      "|     l     |   2    |\n",
      "|     o     |   1    |\n",
      "|     ,     |   1    |\n",
      "|           |   6    |\n",
      "|     d     |   1    |\n",
      "|     s     |   4    |\n",
      "|     i     |   2    |\n",
      "|     t     |   4    |\n",
      "|     e     |   2    |\n",
      "|     n     |   1    |\n",
      "|     z     |   1    |\n",
      "|     …     |   1    |\n",
      "+-----------+--------+\n"
     ]
    }
   ],
   "execution_count": 12
  }
 ],
 "metadata": {
  "kernelspec": {
   "display_name": "Python 3",
   "language": "python",
   "name": "python3"
  },
  "language_info": {
   "codemirror_mode": {
    "name": "ipython",
    "version": 2
   },
   "file_extension": ".py",
   "mimetype": "text/x-python",
   "name": "python",
   "nbconvert_exporter": "python",
   "pygments_lexer": "ipython2",
   "version": "2.7.6"
  }
 },
 "nbformat": 4,
 "nbformat_minor": 5
}
