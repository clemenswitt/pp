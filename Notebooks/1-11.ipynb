{
 "cells": [
  {
   "metadata": {},
   "cell_type": "markdown",
   "source": [
    "# Aufgabe 1.11 – Mathematische Grundfunktionen und Dateiarbeit\n",
    "\n",
    "Berechnen Sie einen Funktionsverlauf für die mathematische Funktion $y(x) = x \\cdot sin(x)$. Dazu unterteilen Sie den Argumentbereich für $x$ in 16 Intervalle $(x_0=0, x_n=4\n",
    "\\pi)$ mit $n=16$ und berechnen dann die Funktionswerte in den 17 Punkten $(0 … n)$ des Arguments $x$.\n",
    "Speichern Sie die ermittelten Werte $y$ sowie die Argumente $x$ dieser Funktion als Listen. Geben Sie die Elemente der Felder `x` und `y` in die Datei `log.txt` paarweise $(x,y)$ im Textformat aus.\n",
    " "
   ],
   "id": "74f63bb6ba5c51f6"
  },
  {
   "metadata": {},
   "cell_type": "markdown",
   "source": [
    "### Benötigte Listen erstellen und mit Werten füllen\n",
    "Für die Erstellung der Intervalliste `intervals` kann das durch die Funktion `range()` erzeugte Iteratorobjekt mittels der Funktion `list()` in eine Liste konvertiert werden. Die Berechnung der Werte $y(x) = x \\cdot sin(x)$ für alle Punkte in `intervals` erfolgt mithilfe einer Inline-`For`-Schleife. "
   ],
   "id": "984d2ab3bd8534e0"
  },
  {
   "metadata": {},
   "cell_type": "code",
   "source": [
    "import math\n",
    "\n",
    "intervals = list(range(0, 17)) \n",
    "values = [round(i * math.sin(i), 3) for i in intervals]"
   ],
   "id": "641a31e152a3fa09",
   "outputs": [],
   "execution_count": null
  },
  {
   "metadata": {},
   "cell_type": "markdown",
   "source": "### Ergebnis überprüfen – Berechnete Funktionswerte mittels Matplotlib plotten",
   "id": "896bab49a908a09e"
  },
  {
   "metadata": {},
   "cell_type": "code",
   "source": [
    "from matplotlib import pyplot as plt\n",
    "plt.plot(intervals, values)"
   ],
   "id": "1a4a3099aa53e18e",
   "outputs": [],
   "execution_count": null
  },
  {
   "metadata": {},
   "cell_type": "markdown",
   "source": [
    "### Berechnete Werte in Datei `log.txt` speichern\n",
    "Mithilfe des Aufrufs der Builtin-Funktion `open(\"log.txt\", \"w\")` wird das Betriebssystem angewiesen, die Datei `log.txt` mit einer Schreibberechtigung zu öffnen. Existiert diese Datei noch nicht, wird sie durch das Betriebssystem angelegt. Das Rückgabeobjekt der Funktion `open()` entspricht dabei der durch das Betriebssystem angelegten Referenz der geöffneten Datei – dem sogenannten *File-Handle*. Mithilfe dieser Referenz kann die geöffnete Datei nun iterativ mittels der Methode `write()` iterativ ergänzt werden. Die Escape-Sequenz `\\n` steht dabei für das Hinzufügen einer neuen Zeile. Abschließend wird das File-Handle durch den Aufruf der Methode `close()` an das Betriebssystem zurückgegeben, welches daraufhin die geöffnete Datei schließt. Um das korrekte Schließen der Datei beim Auftreten von Fehlern zu gewährleisten, ist es sinnvoll, Dateioperationen in `try`-/`except`-Blöcken zu kapseln.  "
   ],
   "id": "26829d29673c3265"
  },
  {
   "metadata": {},
   "cell_type": "code",
   "source": [
    "try:\n",
    "    file = open(\"log.txt\", \"w\")\n",
    "    \n",
    "    for i in range(len(intervals)):\n",
    "        try:\n",
    "            file.write(\"(\" + str(intervals[i]) + \", \" + str(values[i]) + \") \\n\")\n",
    "        except IOError:\n",
    "            print(\"Beim Schreiben der Datei ist ein Fehler aufgetreten\")\n",
    "            file.close()\n",
    "            \n",
    "    file.close()\n",
    "\n",
    "except IOError:\n",
    "    print(\"Beim Öffnen der Datei ist ein Fehler aufgetreten\")"
   ],
   "id": "1fc3a3a8ae2480c3",
   "outputs": [],
   "execution_count": null
  },
  {
   "metadata": {},
   "cell_type": "markdown",
   "source": [
    "### Inhalt der Datei `log.txt` auslesen:\n",
    "Alternativ kann die Dateiarbeit in Python mithilfe eines `with`-Kontextmanagers erfolgen. Hierbei wird die Datei nach der Bearbeitung des `with`-Blocks automatisch geschlossen. Dies ist insbesondere beim Auftreten von Fehlern vorteilhaft, da hier das korrekte Schließen der Datei in einem gesonderten `except`- bzw. `finally`-Block nicht gesondert bedacht werden muss.  "
   ],
   "id": "1709e42c882e432a"
  },
  {
   "metadata": {},
   "cell_type": "code",
   "source": [
    "with open(\"log.txt\", \"r\") as file:\n",
    "    for i, line in enumerate(file):\n",
    "        print(line.strip())"
   ],
   "id": "ad0e4ba3f3a7a958",
   "outputs": [],
   "execution_count": null
  }
 ],
 "metadata": {
  "kernelspec": {
   "display_name": "Python 3",
   "language": "python",
   "name": "python3"
  },
  "language_info": {
   "codemirror_mode": {
    "name": "ipython",
    "version": 2
   },
   "file_extension": ".py",
   "mimetype": "text/x-python",
   "name": "python",
   "nbconvert_exporter": "python",
   "pygments_lexer": "ipython2",
   "version": "2.7.6"
  }
 },
 "nbformat": 4,
 "nbformat_minor": 5
}
