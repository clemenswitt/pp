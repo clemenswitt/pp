{
 "cells": [
  {
   "metadata": {},
   "cell_type": "markdown",
   "source": [
    "# Aufgabe 1.22 – Typumwandlungsfunktion\n",
    "\n",
    "Lesen Sie eine Ziffernfolge (Wert zwischen 12345 und 29876) als Zeichenkette ein und wandeln diese in eine ganzzahlige Variable um. Geben Sie anschließend die 1., die 3. und die letzte Ziffer der Zahl aus.  "
   ],
   "id": "19e985112c6823e8"
  },
  {
   "cell_type": "code",
   "id": "initial_id",
   "metadata": {
    "collapsed": true
   },
   "source": [
    "def convert_to_int(string):\n",
    "    try:\n",
    "        return int(string)\n",
    "    except ValueError:\n",
    "        raise Exception(\"Der übergebene String ist keine Zahl.\")"
   ],
   "outputs": [],
   "execution_count": null
  },
  {
   "metadata": {},
   "cell_type": "code",
   "source": [
    "def check_interval(value):\n",
    "    interval = [12345, 29876]\n",
    "    if value < interval[0] or value > interval[1]:\n",
    "        raise Exception(\"Der Wert liegt außerhalb des Intervalls.\")\n",
    "    return value"
   ],
   "id": "6b0d02fdd1576753",
   "outputs": [],
   "execution_count": null
  },
  {
   "metadata": {},
   "cell_type": "code",
   "source": [
    "def convert_to_string(integer):\n",
    "    try:\n",
    "        return str(integer)\n",
    "    except ValueError:\n",
    "        raise Exception(\"Konvertierungsfehler.\")"
   ],
   "id": "e4aa2c3d2d637cc4",
   "outputs": [],
   "execution_count": null
  },
  {
   "metadata": {},
   "cell_type": "code",
   "source": [
    "def show_digits(number):\n",
    "    try:\n",
    "        return number[0], number[2], number[-1]\n",
    "    except IndexError:\n",
    "        raise Exception(\"Die gegbene Zahl ist nicht lang genug.\")"
   ],
   "id": "6b245a0f1c48151d",
   "outputs": [],
   "execution_count": null
  },
  {
   "metadata": {},
   "cell_type": "code",
   "source": "print(show_digits(convert_to_string(check_interval(convert_to_int(input(\"Geben Sie eine ganze Zahl im Intervall [12345, 29876] ein: ]\"))))))",
   "id": "94176457acf2792a",
   "outputs": [],
   "execution_count": null
  }
 ],
 "metadata": {
  "kernelspec": {
   "display_name": "Python 3",
   "language": "python",
   "name": "python3"
  },
  "language_info": {
   "codemirror_mode": {
    "name": "ipython",
    "version": 2
   },
   "file_extension": ".py",
   "mimetype": "text/x-python",
   "name": "python",
   "nbconvert_exporter": "python",
   "pygments_lexer": "ipython2",
   "version": "2.7.6"
  }
 },
 "nbformat": 4,
 "nbformat_minor": 5
}
