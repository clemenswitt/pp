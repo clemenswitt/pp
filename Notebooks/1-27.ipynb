{
 "cells": [
  {
   "metadata": {},
   "cell_type": "markdown",
   "source": [
    "# Aufgabe 1.27 – Analyse von Zufallstexten\n",
    "\n",
    "Belegen Sie ein `char`-Feld aus 300 Elementen mit zufällig gewählten numerischen Zeichenwerten zwischen 33 und 126. Generieren Sie diese Belegung über einen Zufallszahlengenerator. Geben Sie das Ergebnis aus. \n",
    "\n",
    "Erweitern Sie das Programm um das Sortieren des Feldes mittels Bubble Sort. Verdoppeln Sie im sortierten Feld die im Deutschen am häufigsten auftretenden Buchstaben:\n",
    "\n",
    "1. E/e $\\rightarrow$ 17,4%\n",
    "2. N/n $\\rightarrow$ 9,78%\n",
    "3. I/i $\\rightarrow$ 7,55%\n",
    "4. S/s $\\rightarrow$ 7,27%\n",
    "\n",
    "Geben Sie nach jedem 40. Zeichen das Zeichen `\\n` aus. Ermitteln Sie die Anzahl von Großbuchstaben und Kleinbuchstaben, Ziffern, Sonderzeichen im Feld. Trennen Sie die Feldbelegung, Feldanalyse und Ergebnisausgabe in die separaten Funktionen."
   ],
   "id": "cf66c38a244961d4"
  },
  {
   "metadata": {},
   "cell_type": "markdown",
   "source": "### Funktion zur Erstellung einer 300 zufällige Integer-Werte umfassenden Liste ",
   "id": "268e6038e6644d16"
  },
  {
   "cell_type": "code",
   "id": "initial_id",
   "metadata": {
    "collapsed": true
   },
   "source": [
    "import random\n",
    "\n",
    "def generate_random_array(size=300, min_val=33, max_val=126):\n",
    "    return [random.randint(min_val, max_val) for _ in range(size)]"
   ],
   "outputs": [],
   "execution_count": null
  },
  {
   "metadata": {},
   "cell_type": "markdown",
   "source": "### Funktion zur Konvertierung von Integer-Werten in ASCII-Zeichen",
   "id": "c305119c5cf97f7a"
  },
  {
   "metadata": {},
   "cell_type": "code",
   "source": [
    "def to_ascii(int_arr):\n",
    "    return [chr(i) for i in int_arr]"
   ],
   "id": "6194f8157d16160",
   "outputs": [],
   "execution_count": null
  },
  {
   "metadata": {},
   "cell_type": "markdown",
   "source": "### Funktion zur Verdopplung häufig auftretender Zeichen innerhalb einer übergebenen Liste",
   "id": "4ee097ef5c9a06e9"
  },
  {
   "metadata": {},
   "cell_type": "code",
   "source": [
    "def double_common_chars(char_arr):\n",
    "    for i in range(len(char_arr)):\n",
    "        if char_arr[i].lower() in [\"e\", \"n\", \"i\", \"s\"]: char_arr.append(char_arr[i]) \n",
    "    return char_arr"
   ],
   "id": "d3dd41c560d65459",
   "outputs": [],
   "execution_count": null
  },
  {
   "metadata": {},
   "cell_type": "markdown",
   "source": "Funktion – BubbleSort-Algorithmus",
   "id": "41937fe677cf02cb"
  },
  {
   "metadata": {},
   "cell_type": "code",
   "source": [
    "def bubble_sort(arr):\n",
    "    for i in range(len(arr)):\n",
    "        for j in range(len(arr)-i-1):\n",
    "            if arr[j] > arr[j + 1]:\n",
    "                arr[j], arr[j + 1] = arr[j + 1], arr[j]\n",
    "    return arr"
   ],
   "id": "defcd25d58e79b65",
   "outputs": [],
   "execution_count": null
  },
  {
   "metadata": {},
   "cell_type": "markdown",
   "source": "### Funktion zur Aufteilung einer übergebenen Liste in 40 Elemente umfassende Sublisten ",
   "id": "54d3151d438835b"
  },
  {
   "metadata": {},
   "cell_type": "code",
   "source": [
    "def split_array(arr, chunk_size=40):\n",
    "    return [arr[i:i + chunk_size] for i in range(0, len(arr), chunk_size)]"
   ],
   "id": "8ab7b7ca7cb9b501",
   "outputs": [],
   "execution_count": null
  },
  {
   "metadata": {},
   "cell_type": "markdown",
   "source": "### Funktion zur zeilenweisen Ausgabe von Sublisten",
   "id": "9aa8bda0b720e490"
  },
  {
   "metadata": {},
   "cell_type": "code",
   "source": [
    "def print_n(arr):\n",
    "    for sub_arr in arr: print(str(sub_arr) + \"\\n\")"
   ],
   "id": "e173455b32b6effc",
   "outputs": [],
   "execution_count": null
  },
  {
   "metadata": {},
   "cell_type": "markdown",
   "source": "### Funktion zum Zählen von Klein- & Großbuchstaben sowie Sonderzeichen innerhalb einer übergebenen Liste",
   "id": "afdfa78365157671"
  },
  {
   "metadata": {},
   "cell_type": "code",
   "source": [
    "def analyze_field(arr):\n",
    "    lower_case = sum(1 for letter in arr if letter.islower())\n",
    "    upper_case = sum(1 for letter in arr if letter.isupper())\n",
    "    special_char = sum(1 for letter in arr if not letter.isalpha() and not letter.isdigit())\n",
    "    return lower_case, upper_case, special_char"
   ],
   "id": "e2817136f425fc60",
   "outputs": [],
   "execution_count": null
  },
  {
   "metadata": {},
   "cell_type": "markdown",
   "source": "### Funktionsaufruf",
   "id": "1edd6863a7f45a37"
  },
  {
   "metadata": {},
   "cell_type": "code",
   "source": [
    "arr = to_ascii(generate_random_array())\n",
    "arr = bubble_sort(arr)\n",
    "arr = double_common_chars(arr)\n",
    "print_n(split_array(arr))\n",
    "print(f\"Kleinbuchstaben: {analyze_field(arr)[0]} \\t Großbuchstaben: {analyze_field(arr)[1]} \\t Sonderzeichen: {analyze_field(arr)[2]}\")"
   ],
   "id": "e570fb6950f863e3",
   "outputs": [],
   "execution_count": null
  }
 ],
 "metadata": {
  "kernelspec": {
   "display_name": "Python 3",
   "language": "python",
   "name": "python3"
  },
  "language_info": {
   "codemirror_mode": {
    "name": "ipython",
    "version": 2
   },
   "file_extension": ".py",
   "mimetype": "text/x-python",
   "name": "python",
   "nbconvert_exporter": "python",
   "pygments_lexer": "ipython2",
   "version": "2.7.6"
  }
 },
 "nbformat": 4,
 "nbformat_minor": 5
}
