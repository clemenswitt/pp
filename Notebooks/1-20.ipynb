{
 "cells": [
  {
   "metadata": {},
   "cell_type": "markdown",
   "source": [
    "# Aufgabe 1.20 – Zeichenketten und String-Funktionen\n",
    "\n",
    "Schreiben Sie eine Funktion `word_in(zk, n)`, die ein Wort von der Konsole einliest, vor dem N-ten Wort der Zeichenkette `zk` einfügt und das Ergebnis auf dem Bildschirm ausgibt. "
   ],
   "id": "af188781eff1852c"
  },
  {
   "metadata": {},
   "cell_type": "markdown",
   "source": "### Definition der Funktion `word_in(zk, n)`",
   "id": "ea83824bf93484e6"
  },
  {
   "cell_type": "code",
   "id": "initial_id",
   "metadata": {
    "collapsed": true
   },
   "source": [
    "def word_in(zk, n):\n",
    "    split = zk.split(\" \")\n",
    "    split.insert(n - 1, input(\"Gib das neue Wort ein: \"))\n",
    "    return \" \".join(split)"
   ],
   "outputs": [],
   "execution_count": null
  },
  {
   "metadata": {},
   "cell_type": "markdown",
   "source": "### Funktionstest",
   "id": "e725b9890a72c907"
  },
  {
   "metadata": {},
   "cell_type": "code",
   "source": "print(word_in(\"HALLO DAS IST EIN TEST\", 3))",
   "id": "e718278dcacab822",
   "outputs": [],
   "execution_count": null
  }
 ],
 "metadata": {
  "kernelspec": {
   "display_name": "Python 3",
   "language": "python",
   "name": "python3"
  },
  "language_info": {
   "codemirror_mode": {
    "name": "ipython",
    "version": 2
   },
   "file_extension": ".py",
   "mimetype": "text/x-python",
   "name": "python",
   "nbconvert_exporter": "python",
   "pygments_lexer": "ipython2",
   "version": "2.7.6"
  }
 },
 "nbformat": 4,
 "nbformat_minor": 5
}
