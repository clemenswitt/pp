{
 "cells": [
  {
   "metadata": {},
   "cell_type": "markdown",
   "source": [
    "# Aufgabe 1.7 – Verbalprädikat zur Klausurbewertung\n",
    "Eine Klausur habe zehn Aufgaben, die jeweils mit Punkten bewertet werden (Spanne 0 …100). Die Klausurnote soll laut der Prüfungsordnung eines Lehrganges nach der folgenden Tabelle berechnet werden:\n",
    "\n",
    "| 100 … 97 | 96 … 76 | 75 … 61 | 60 … 50 |   49 … 0   |\n",
    "|:--------:|:-------:|:-------:|:-------:|:----------:|\n",
    "| Sehr gut | Gut | Befriedigend | Ausreichend | Ungenügend |\n",
    "\n",
    "Beschreiben Sie in Form eines NSD (Struktogramm) einen Algorithmus, der nach der Eingabe der Punktzahl für die Klausur gemäß obiger Tabelle das Bewertungsprädikat ausgibt. Implementieren Sie dieses Programm. Dabei müssen mehrere Klausuren von mehreren Kandidaten in einer endlosen Schleife bewertet werden.\n",
    "\n",
    "**Hinweis:** Das Konstrukt `while (1) …` ist zu verwenden). Die Eingabe `-1` soll den Zyklus terminieren. \n"
   ],
   "id": "e2fefced94d1ac0"
  },
  {
   "metadata": {},
   "cell_type": "markdown",
   "source": "### Definition der Bewertungsmatrix",
   "id": "daa82f267c8dda46"
  },
  {
   "metadata": {},
   "cell_type": "code",
   "source": [
    "predicate_matrix = {\n",
    "    97: \"Sehr gut\",\n",
    "    76: \"Gut\",\n",
    "    61: \"Befriedigend\",\n",
    "    50: \"Ausreichend\",\n",
    "    0: \"Ungenügend\"\n",
    "}"
   ],
   "id": "50f97a4a5870225e",
   "outputs": [],
   "execution_count": null
  },
  {
   "metadata": {},
   "cell_type": "markdown",
   "source": "### Eingabe der Gesamtpunktzahl und Vergleichsschleife",
   "id": "5bcd9d54360bc6b4"
  },
  {
   "cell_type": "code",
   "id": "initial_id",
   "metadata": {
    "collapsed": true
   },
   "source": [
    "pts_total = int(input('Gesamtpunktzahl: '))\n",
    "\n",
    "while True:\n",
    "    pts_input = int(input('Punktzahl der Klausur: '))\n",
    "    if pts_input == -1:\n",
    "        break\n",
    "    if pts_input > pts_total:\n",
    "        print(f\"Die eingegebene Punktzahl {pts_input} liegt über der angegebenen Maximalpunktzahl {pts_total}.\")\n",
    "    else:\n",
    "        for key in predicate_matrix:\n",
    "            if pts_input >= key:\n",
    "                predicate = predicate_matrix[key]\n",
    "                break\n",
    "        print(f\"{pts_input} / {pts_total} entsprechen dem Prädikat \\\"{predicate}\\\".\")\n",
    "    \n",
    "print(\"Eingabe beendet.\")"
   ],
   "outputs": [],
   "execution_count": null
  }
 ],
 "metadata": {
  "kernelspec": {
   "display_name": "Python 3",
   "language": "python",
   "name": "python3"
  },
  "language_info": {
   "codemirror_mode": {
    "name": "ipython",
    "version": 2
   },
   "file_extension": ".py",
   "mimetype": "text/x-python",
   "name": "python",
   "nbconvert_exporter": "python",
   "pygments_lexer": "ipython2",
   "version": "2.7.6"
  }
 },
 "nbformat": 4,
 "nbformat_minor": 5
}
