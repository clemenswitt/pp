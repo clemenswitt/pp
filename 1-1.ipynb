{
 "cells": [
  {
   "metadata": {},
   "cell_type": "markdown",
   "source": [
    "# Aufgabe 1.1 – Minimum dreier Zahlen\n",
    "Drei Zahlen sind einzugeben. Ihr Minimum soll bestimmt und ausgegeben werden. Beschreiben Sie den Algorithmus in Form eines NSD. Implementieren Sie den Algorithmus in der Sprache C, C++ oder Python.\n"
   ],
   "id": "7b156a006b16c0d1"
  },
  {
   "metadata": {},
   "cell_type": "markdown",
   "source": [
    "### Nassi-Shneiderman-Diagramm der Funktion `check_smallest(a, b)`\n",
    "![](Assets/Export/1-1.png)"
   ],
   "id": "3de0236facd87d05"
  },
  {
   "metadata": {},
   "cell_type": "markdown",
   "source": [
    "### Funktionsdefinition `check_smallest(a, b)`\n",
    "Die Funktion `check_smallest()` erhält die Parameter `a` und `b`. Ist `a` kleiner als `b` wird `a` zurückgegeben; ansonsten wird `b` zurückgegeben."
   ],
   "id": "c25098c11848e553"
  },
  {
   "metadata": {},
   "cell_type": "code",
   "source": [
    "def check_smallest(a, b):\n",
    "  if a < b: return a\n",
    "  return b"
   ],
   "id": "60ce4ce98fce6671",
   "outputs": [],
   "execution_count": null
  },
  {
   "metadata": {},
   "cell_type": "markdown",
   "source": "### Inputs festlegen",
   "id": "ea990e6adb2325bd"
  },
  {
   "metadata": {},
   "cell_type": "code",
   "source": [
    "n1 = input('Zahl 1: ')\n",
    "n2 = input('Zahl 2: ')\n",
    "n3 = input('Zahl 3: ')"
   ],
   "id": "b6826449cbaf2a73",
   "outputs": [],
   "execution_count": null
  },
  {
   "metadata": {},
   "cell_type": "markdown",
   "source": [
    "### Funktionsaufruf\n",
    "Der gezeigte Funktionsaufruf `check_smallest(n3, check_smallest(n2, n1))` folgt dem _funktionalen Paradigma_. Zuerst wird der innere Aufruf `check_smallest(n2, n1)` ausgeführt. Dessen Rückgabewert dient danach als Argument für den äußeren Funktionsaufruf, der mit `check_smallest(n3, ...)` abgeschlossen wird."
   ],
   "id": "7ec5fa52633bf71f"
  },
  {
   "metadata": {},
   "cell_type": "code",
   "source": "print('Die kleinste der eingegebenen Zahlen lautet: ', check_smallest(n3, check_smallest(n2, n1)))",
   "id": "540057e17607501b",
   "outputs": [],
   "execution_count": null
  }
 ],
 "metadata": {
  "kernelspec": {
   "display_name": "Python 3",
   "language": "python",
   "name": "python3"
  },
  "language_info": {
   "codemirror_mode": {
    "name": "ipython",
    "version": 2
   },
   "file_extension": ".py",
   "mimetype": "text/x-python",
   "name": "python",
   "nbconvert_exporter": "python",
   "pygments_lexer": "ipython2",
   "version": "2.7.6"
  }
 },
 "nbformat": 4,
 "nbformat_minor": 5
}
