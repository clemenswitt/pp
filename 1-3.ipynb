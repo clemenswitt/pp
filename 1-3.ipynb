{
 "cells": [
  {
   "metadata": {},
   "cell_type": "markdown",
   "source": [
    "# Aufgabe 1.3 – Zufallszahlenermittlung und Würfelfunktion\n",
    "In vielen Brettspielen werden Würfel zur Zufallszahlenermittlung eingesetzt. Sie sollen einen Algorithmus überlegen und diesen als Programm erstellen, der ein solches Spiel simuliert. Zum Würfeln stehe eine Funktion „Zahl=Wuerfel()“ zur Verfügung, die das Ergebnis (Werte 1 – 6) als ganze Zahl liefert. Es soll so lange gewürfelt werden, bis eine 4 gewürfelt wird. Nutzen Sie dazu das Konstrukt `do … while …`! Nach wie vielen Versuchen wurde dies erreicht (Ausgabe Zählervariable)? Beschreiben Sie diesen Algorithmus als NSD oder PAP!\n"
   ],
   "id": "919c18e087148904"
  },
  {
   "metadata": {},
   "cell_type": "markdown",
   "source": [
    "### Nassi-Shneiderman-Diagramm\n",
    "![](Assets/Export/1-3.png)"
   ],
   "id": "d6d575439916ff2d"
  },
  {
   "metadata": {},
   "cell_type": "markdown",
   "source": "### Random-Modul importieren",
   "id": "60af56cdadcd51e6"
  },
  {
   "metadata": {},
   "cell_type": "code",
   "source": "from random import randint",
   "id": "9dd0386ddcfdd808",
   "outputs": [],
   "execution_count": null
  },
  {
   "metadata": {},
   "cell_type": "markdown",
   "source": "### Würfel-Funktion definieren",
   "id": "29317f7c6c57533f"
  },
  {
   "metadata": {},
   "cell_type": "code",
   "source": [
    "def wuerfel():\n",
    "    return randint(1, 6)"
   ],
   "id": "3d068ce4ae5fdb7",
   "outputs": [],
   "execution_count": null
  },
  {
   "metadata": {},
   "cell_type": "markdown",
   "source": "### Ausgangsbedingungen festlegen",
   "id": "e0eb9b3b056f5da2"
  },
  {
   "metadata": {},
   "cell_type": "code",
   "source": [
    "target_number = 4\n",
    "try_counter = 0"
   ],
   "id": "ef98d5be8291c7ea",
   "outputs": [],
   "execution_count": null
  },
  {
   "metadata": {},
   "cell_type": "markdown",
   "source": "### Do-While-Schleife",
   "id": "b40bfc6ce573f79f"
  },
  {
   "metadata": {},
   "cell_type": "code",
   "source": [
    "while True:\n",
    "    try_counter += 1\n",
    "    number = wuerfel()\n",
    "    if number == target_number:\n",
    "        break\n",
    "        \n",
    "print(f'Es wurden {try_counter} Versuche benötigt.')"
   ],
   "id": "d4f8fa0322340ee",
   "outputs": [],
   "execution_count": null
  }
 ],
 "metadata": {
  "kernelspec": {
   "display_name": "Python 3",
   "language": "python",
   "name": "python3"
  },
  "language_info": {
   "codemirror_mode": {
    "name": "ipython",
    "version": 2
   },
   "file_extension": ".py",
   "mimetype": "text/x-python",
   "name": "python",
   "nbconvert_exporter": "python",
   "pygments_lexer": "ipython2",
   "version": "2.7.6"
  }
 },
 "nbformat": 4,
 "nbformat_minor": 5
}
