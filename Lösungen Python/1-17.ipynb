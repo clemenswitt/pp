{
 "cells": [
  {
   "metadata": {},
   "cell_type": "markdown",
   "source": [
    "# Aufgabe 1.17 – Satellitenfunkkommunikation\n",
    "\n",
    "Wie lange dauert die Datenfunkübertragung eines Datenpakets mit Länge $L = 1000 Byte$ zwischen einer terrestrischen Station und einem Satelliten (Uplink-Modus) auf der Orbithöhe $h= 12000 km$ bei der maximalen Bitrate des Senders $DR= 10 MBit/s$? \n",
    "\n",
    "Die Formeln zur Berechnung sind wie folgt:\n",
    "- Gesamtzeit: $T = t_1  + t_2$\n",
    "- Sendezeit: $t_1= L/ DR$ \n",
    "- Ausbreitungszeit $t_2 = h/ c$ mit $c = 299.792.458 m/s$\n",
    "\n",
    "Schreiben Sie ein Programm zur Berechnung der Gesamtzeit bei der Satellitenfunkkommunikation. Beachten Sie die korrekte und SI-konforme Umwandlung der Maßeinheiten."
   ],
   "id": "5fc45f4bb10e7593"
  },
  {
   "metadata": {},
   "cell_type": "markdown",
   "source": "### Funktion zur Berechnung der Übertragungszeit",
   "id": "67cc613706561178"
  },
  {
   "cell_type": "code",
   "id": "initial_id",
   "metadata": {
    "collapsed": true
   },
   "source": [
    "def calculate_transmission_time(l, dr, h): # l [Byte], h [km], DR [Mbit/s]\n",
    "    return (l * 8) / (1e6 * dr) + h / 299792.458"
   ],
   "outputs": [],
   "execution_count": null
  },
  {
   "metadata": {},
   "cell_type": "markdown",
   "source": "### Funktionstest $\\rightarrow$ $l=1000 Byte$, $dr = 10 Mbit/s$, $h = 12000km$",
   "id": "fd814e4582975a64"
  },
  {
   "metadata": {},
   "cell_type": "code",
   "source": "print(f\"Die Übertragungsdauer beträgt {round(1e3 * calculate_transmission_time(1000, 10, 12000), 3)}ms.\")",
   "id": "227a056ff642f54d",
   "outputs": [],
   "execution_count": null
  }
 ],
 "metadata": {
  "kernelspec": {
   "display_name": "Python 3",
   "language": "python",
   "name": "python3"
  },
  "language_info": {
   "codemirror_mode": {
    "name": "ipython",
    "version": 2
   },
   "file_extension": ".py",
   "mimetype": "text/x-python",
   "name": "python",
   "nbconvert_exporter": "python",
   "pygments_lexer": "ipython2",
   "version": "2.7.6"
  }
 },
 "nbformat": 4,
 "nbformat_minor": 5
}
