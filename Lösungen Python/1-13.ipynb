{
 "cells": [
  {
   "metadata": {},
   "cell_type": "markdown",
   "source": [
    "# Aufgabe 1.13 – ASCII-Zeichen und Ausgabeformate\n",
    "\n",
    "Implementieren Sie folgendes Programm: Zyklisch ist jeweils ein Buchstabe aus der ASCII-Tabelle von der Konsole einzulesen und in verschiedenen Formaten darzustellen. Zusätzlich soll das eingegebene Zeichen mit `0x20` mitels der Funktion `XOR` verknüpft werden. Geben Sie die ermittelten Werte im Dezimal-, Oktal- und Hexadezimalformat aus. \n"
   ],
   "id": "3f20358b5e9d03fd"
  },
  {
   "metadata": {},
   "cell_type": "markdown",
   "source": "### Dezimalzahlen in Binärzahlen umwandeln:",
   "id": "362d8ecc1b310d37"
  },
  {
   "metadata": {},
   "cell_type": "code",
   "source": [
    "def dec_to_bin(n_dec):\n",
    "    if n_dec == 0:\n",
    "        return 0\n",
    "    binary = ''\n",
    "    while n_dec > 0:\n",
    "        binary = str(n_dec % 2) + binary\n",
    "        n_dec = n_dec // 2\n",
    "    return binary"
   ],
   "id": "e98d156fa0dc0dca",
   "outputs": [],
   "execution_count": null
  },
  {
   "metadata": {},
   "cell_type": "markdown",
   "source": [
    "### Binärzahlen in Hexadezimalzahlen umwandeln\n",
    "Um Binärzahlen in das Hexadezimalsystem zu konvertieren, werden sie ab dem Komma in Vierergruppen unterteilt. Jede dieser Gruppen lässt sich anschließend in eine hexadezimale Ziffer umwandeln. Ist die Länge der Binärzahl kein Vielfaches von 4, muss sie gegebenenfalls links mit Nullen ergänzt werden."
   ],
   "id": "f502e5545d01c094"
  },
  {
   "metadata": {},
   "cell_type": "code",
   "source": [
    "hex_lookup = {\n",
    "    '0000': '0', '0001': '1', '0010': '2', '0011': '3',\n",
    "    '0100': '4', '0101': '5', '0110': '6', '0111': '7',\n",
    "    '1000': '8', '1001': '9', '1010': 'A', '1011': 'B',\n",
    "    '1100': 'C', '1101': 'D', '1110': 'E', '1111': 'F'\n",
    "}\n",
    "\n",
    "def bin_to_hex(n_bin):\n",
    "    if len(n_bin) % 4 != 0:\n",
    "        n_bin = '0'  * (4 - len(n_bin) % 4) + n_bin\n",
    "    \n",
    "    hex = ''\n",
    "    for i in range(0, len(n_bin), 4):\n",
    "        hex += hex_lookup[n_bin[i:i+4]]\n",
    "        \n",
    "    return hex"
   ],
   "id": "e20535a7f2e49c90",
   "outputs": [],
   "execution_count": null
  },
  {
   "metadata": {},
   "cell_type": "markdown",
   "source": [
    "### Binärzahlen in Oktalzahlen umwandeln\n",
    "Um Binärzahlen in das Oktalsystem zu konvertieren, werden sie ab dem Komma in Dreier unterteilt. Jede dieser Gruppen lässt sich anschließend in eine oktale Ziffer umwandeln. Ist die Länge der Binärzahl kein Vielfaches von 3, muss sie gegebenenfalls links mit Nullen ergänzt werden."
   ],
   "id": "a7583db649accb86"
  },
  {
   "metadata": {},
   "cell_type": "code",
   "source": [
    "oct_lookup = {\n",
    "    '000': '0', '001': '1', '010': '2', '011': '3',\n",
    "    '100': '4', '101': '5', '110': '6', '111': '7'\n",
    "}\n",
    "\n",
    "def bin_to_oct(n_oct):\n",
    "    if len(n_oct) % 3 != 0:\n",
    "        n_oct = '0'  * (3 - len(n_oct) % 3) + n_oct\n",
    "    \n",
    "    oct = ''\n",
    "    for i in range(0, len(n_oct), 3):\n",
    "        oct += oct_lookup[n_oct[i:i+3]]\n",
    "        \n",
    "    return oct"
   ],
   "id": "8ca27ba97f93fd9",
   "outputs": [],
   "execution_count": null
  },
  {
   "metadata": {},
   "cell_type": "markdown",
   "source": [
    "### XOR-Funktion\n",
    "DIe Umsetzung der `XOR`-Funktion erfolgt mithilfe einer Inline-`For`-Schleife. Hierbei werden die Parameter `b1` und `b2` stellenweise miteinander vergleichen. Stimmen beide Parameter in einer Stelle überein, wird der Rückgabestring an der betreffenden Stelle um den Wert `0`, andernfalls um den Wert `1` ergänzt.  "
   ],
   "id": "e031e0eb10f65ec"
  },
  {
   "metadata": {},
   "cell_type": "code",
   "source": [
    "def binary_xor(b1, b2):\n",
    "    if len(b1) == len(b2):\n",
    "        return ''.join(['0' if b1[i] == b2[i] else '1' for i in range(len(b1))])"
   ],
   "id": "9b8e696049fd1070",
   "outputs": [],
   "execution_count": null
  },
  {
   "metadata": {},
   "cell_type": "markdown",
   "source": [
    "### Testschleife\n",
    "**Hinweis:** Die dezimale ASCII-Repräsentation eines Zeichens kann in Python mithilfe der Buildin-Funktion `ord()` ermittelt werden."
   ],
   "id": "e36fa731cc6dc5b"
  },
  {
   "metadata": {},
   "cell_type": "code",
   "source": [
    "while True:\n",
    "    inp = input('Ein Zeichen eingeben ')\n",
    "    if inp == '-1': break # Input-Schleife bei der Eingabe von \"-1\" abbrechen \n",
    "    print(f\"Eingegebenes Zeichen: {inp} \\n\"\n",
    "          f\"ASCII-Darstellung: {ord(inp)} \\n\"\n",
    "          f\"ASCII-Bin-Darstellung: {dec_to_bin(ord(inp))} \\n\"\n",
    "          f\"ASCII-Hex-Darstellung: {bin_to_hex(dec_to_bin(ord(inp)))} \\n\"\n",
    "          f\"ASCII-Oct-Darstellung: {bin_to_oct(dec_to_bin(ord(inp)))} \\n\"\n",
    "          f\"ASCII-Bin-Darstellung XOR 0x20: {binary_xor(dec_to_bin(ord(inp)), '0100000')}\") # 7-Bit-Länge für ASCII-Zeichen"
   ],
   "id": "59108106a6bfa258",
   "outputs": [],
   "execution_count": null
  }
 ],
 "metadata": {
  "kernelspec": {
   "display_name": "Python 3",
   "language": "python",
   "name": "python3"
  },
  "language_info": {
   "codemirror_mode": {
    "name": "ipython",
    "version": 2
   },
   "file_extension": ".py",
   "mimetype": "text/x-python",
   "name": "python",
   "nbconvert_exporter": "python",
   "pygments_lexer": "ipython2",
   "version": "2.7.6"
  }
 },
 "nbformat": 4,
 "nbformat_minor": 5
}
