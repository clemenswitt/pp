{
 "cells": [
  {
   "metadata": {},
   "cell_type": "markdown",
   "source": [
    "# Aufgabe 1.15 – SI-konforme Umwandlung angloamerikanischer Maßeinheiten\n",
    "\n",
    "Erweitern Sie Ihr Programm aus Aufgabe 1.14 um die Umrechnung folgender angloamerikanischer Maßeinheiten:\n",
    "-   Fuß in dm, \n",
    "-\tYard in Meter, \n",
    "-\tMeile in km,\n",
    "-\tOunces in Gramm,\n",
    "-\tPfund (lbs) in kg\t\n",
    "\n",
    "**Hinweis:** Geben Sie das Ergebnis in tabellarischer Form unter Nutzung des Tabulators `\\t` aus:\n",
    "\n",
    "| Nr. | Nichtmetrische Eingabe | Metrische (SI-) Ausgabe |\n",
    "|-----|------------------------|-------------------------|\n",
    "\n",
    "Ergänzen Sie das Programm um ein Eingabemenü, welches dem User erlaubt, die Maßeinheiten zu wählen sowie mehrere Werte einzugeben."
   ],
   "id": "28e018f34f0528f5"
  },
  {
   "metadata": {},
   "cell_type": "markdown",
   "source": "### Dictionary zur Wertumrechnung",
   "id": "39d6947dadb4f04b"
  },
  {
   "cell_type": "code",
   "id": "initial_id",
   "metadata": {
    "collapsed": true,
    "ExecuteTime": {
     "end_time": "2024-11-07T15:20:27.437075Z",
     "start_time": "2024-11-07T15:20:27.433839Z"
    }
   },
   "source": [
    "conversion_dict = {\n",
    "    1: [\"ft\", \"dm\", 3.048], # Fuß -> dm\n",
    "    2: [\"yd\", \"m\", .9144], # Yard -> m\n",
    "    3: [\"mi\", \"km\", 1.60934], # Meile -> km\n",
    "    4: [\"oz\", \"g\", 28.3495], # Unze -> g\n",
    "    5: [\"lb\", \"kg\", .453592] # Pfund -> kg \n",
    "}"
   ],
   "outputs": [],
   "execution_count": 1
  },
  {
   "metadata": {},
   "cell_type": "markdown",
   "source": "### Funktion zur Wertumrechnung",
   "id": "b18c370e0149ddc7"
  },
  {
   "metadata": {
    "ExecuteTime": {
     "end_time": "2024-11-07T15:20:27.505383Z",
     "start_time": "2024-11-07T15:20:27.503404Z"
    }
   },
   "cell_type": "code",
   "source": [
    "def si_conversion(option, value):\n",
    "    return value * conversion_dict[option][2]"
   ],
   "id": "d230f90f2646955b",
   "outputs": [],
   "execution_count": 2
  },
  {
   "metadata": {},
   "cell_type": "markdown",
   "source": "### Ausgabefunktion",
   "id": "6af5b2908f14dbf0"
  },
  {
   "metadata": {
    "ExecuteTime": {
     "end_time": "2024-11-07T15:20:27.522736Z",
     "start_time": "2024-11-07T15:20:27.520811Z"
    }
   },
   "cell_type": "code",
   "source": [
    "def print_row(values): # Format values: [Nr., nichtmetrischer Wert, metrischer Wert]\n",
    "    print('\\t\\t\\t'.join(map(str, values)))"
   ],
   "id": "c7713dad6ef91fa2",
   "outputs": [],
   "execution_count": 3
  },
  {
   "metadata": {},
   "cell_type": "markdown",
   "source": "### Testfunktion",
   "id": "6c700773f46de28"
  },
  {
   "metadata": {
    "ExecuteTime": {
     "end_time": "2024-11-07T15:21:25.540297Z",
     "start_time": "2024-11-07T15:20:27.523996Z"
    }
   },
   "cell_type": "code",
   "source": [
    "row_count = 0\n",
    "print_row([\"Nr.\", \"Nichtmetrische Eingabe\", \"Metrische Ausgabe\"])\n",
    "\n",
    "while True:\n",
    "    option_input = int(input(f\"Wählen Sie eine Option: \\n\"\n",
    "                             f\"{'\\n'.join([str(key) + \":    \" + \n",
    "                                             str(conversion_dict[key][0]) + \" -> \" + \n",
    "                                             str(conversion_dict[key][1]) \n",
    "                                             for key in conversion_dict])}\"))\n",
    "\n",
    "    if option_input == 0:\n",
    "        break\n",
    "    \n",
    "    value_input = float(input(f\"Geben Sie einen Wert in {conversion_dict[option_input][0]} ein: \"))\n",
    "\n",
    "    row_count += 1\n",
    "    print_row([row_count, f\"{value_input} {conversion_dict[option_input][0]}\", f\"{si_conversion(option_input, value_input)} {conversion_dict[option_input][1]}\"])"
   ],
   "id": "1fd44eb02d4926e3",
   "outputs": [
    {
     "name": "stdout",
     "output_type": "stream",
     "text": [
      "Nr.\t\t\tNichtmetrische Eingabe\t\t\tMetrische Ausgabe\n",
      "1\t\t\t100.0 ft\t\t\t304.8 dm\n"
     ]
    },
    {
     "ename": "KeyError",
     "evalue": "200",
     "output_type": "error",
     "traceback": [
      "\u001B[0;31m---------------------------------------------------------------------------\u001B[0m",
      "\u001B[0;31mKeyError\u001B[0m                                  Traceback (most recent call last)",
      "Cell \u001B[0;32mIn[4], line 14\u001B[0m\n\u001B[1;32m     11\u001B[0m \u001B[38;5;28;01mif\u001B[39;00m option_input \u001B[38;5;241m==\u001B[39m \u001B[38;5;241m0\u001B[39m:\n\u001B[1;32m     12\u001B[0m     \u001B[38;5;28;01mbreak\u001B[39;00m\n\u001B[0;32m---> 14\u001B[0m value_input \u001B[38;5;241m=\u001B[39m \u001B[38;5;28mfloat\u001B[39m(\u001B[38;5;28minput\u001B[39m(\u001B[38;5;124mf\u001B[39m\u001B[38;5;124m\"\u001B[39m\u001B[38;5;124mGeben Sie einen Wert in \u001B[39m\u001B[38;5;132;01m{\u001B[39;00m\u001B[43mconversion_dict\u001B[49m\u001B[43m[\u001B[49m\u001B[43moption_input\u001B[49m\u001B[43m]\u001B[49m[\u001B[38;5;241m0\u001B[39m]\u001B[38;5;132;01m}\u001B[39;00m\u001B[38;5;124m ein: \u001B[39m\u001B[38;5;124m\"\u001B[39m))\n\u001B[1;32m     16\u001B[0m row_count \u001B[38;5;241m+\u001B[39m\u001B[38;5;241m=\u001B[39m \u001B[38;5;241m1\u001B[39m\n\u001B[1;32m     17\u001B[0m print_row([row_count, \u001B[38;5;124mf\u001B[39m\u001B[38;5;124m\"\u001B[39m\u001B[38;5;132;01m{\u001B[39;00mvalue_input\u001B[38;5;132;01m}\u001B[39;00m\u001B[38;5;124m \u001B[39m\u001B[38;5;132;01m{\u001B[39;00mconversion_dict[option_input][\u001B[38;5;241m0\u001B[39m]\u001B[38;5;132;01m}\u001B[39;00m\u001B[38;5;124m\"\u001B[39m, \u001B[38;5;124mf\u001B[39m\u001B[38;5;124m\"\u001B[39m\u001B[38;5;132;01m{\u001B[39;00msi_conversion(option_input,\u001B[38;5;250m \u001B[39mvalue_input)\u001B[38;5;132;01m}\u001B[39;00m\u001B[38;5;124m \u001B[39m\u001B[38;5;132;01m{\u001B[39;00mconversion_dict[option_input][\u001B[38;5;241m1\u001B[39m]\u001B[38;5;132;01m}\u001B[39;00m\u001B[38;5;124m\"\u001B[39m])\n",
      "\u001B[0;31mKeyError\u001B[0m: 200"
     ]
    }
   ],
   "execution_count": 4
  }
 ],
 "metadata": {
  "kernelspec": {
   "display_name": "Python 3",
   "language": "python",
   "name": "python3"
  },
  "language_info": {
   "codemirror_mode": {
    "name": "ipython",
    "version": 2
   },
   "file_extension": ".py",
   "mimetype": "text/x-python",
   "name": "python",
   "nbconvert_exporter": "python",
   "pygments_lexer": "ipython2",
   "version": "2.7.6"
  }
 },
 "nbformat": 4,
 "nbformat_minor": 5
}
