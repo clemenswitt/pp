{
 "cells": [
  {
   "metadata": {},
   "cell_type": "markdown",
   "source": [
    "# Aufgabe 1.14 – Tea Clipper\n",
    "Als „Tea Clipper“ wird eine in den USA entstandene Bauart schnellster Fracht-Segelschiffe für Teelieferung bezeichnet, die ihren starken Einsatz in der Mitte des 19. Jahrhunderts hatte. Einer der letzten Teeklipper war die berühmte „Cutty Sark“ (heute im Trockendock Greenwich). Ihre dokumentierte max. Höchstgeschwindigkeit betrug 17,5 Knoten, manche Quellen sprechen sogar von 21 Knoten. Rechnen Sie diese beiden Geschwindigkeitsangaben von der Maßeinheit Knoten ($kt$, Seemeile pro Stunde) in die heute praktikablere metrische Maßeinheit $km/h$ um. \n",
    "\n",
    "Schreiben Sie ein Programm zur generellen Umrechnung „Knoten–Stundenkilometer“. Die Eingabe neuer Werte soll hierbei in einer Endlosschleife organisiert werden. Die Eingabe von $0 kt$ terminiert die Schleife. \n",
    "\n",
    "**Hinweis:** Die Angabe in $kt$ sollen von der Tastatur betätigt werden. Eingabe mehrerer Knotenwerte ist möglich. Geben Sie das Ergebnis in tabellarischer Form unter Nutzung des Tabulators `\\t` aus:\n",
    "\t\n",
    "| Nr. | Wert in kt | Wert in km/h |\n",
    "|-----|------------|--------------|"
   ],
   "id": "1cbbcf9e7c1b8f8e"
  },
  {
   "metadata": {},
   "cell_type": "markdown",
   "source": "### Funktion zur Umwandlung von $kt$ in $km/h$",
   "id": "d6a8558d795296cc"
  },
  {
   "cell_type": "code",
   "id": "initial_id",
   "metadata": {
    "collapsed": true
   },
   "source": [
    "def convert_to_kmh(kts):\n",
    "    return kts * 1.852"
   ],
   "outputs": [],
   "execution_count": null
  },
  {
   "metadata": {},
   "cell_type": "markdown",
   "source": [
    "### Ausgabefunktion\n",
    "Mithilfe der Buildin-Funktion `map()` kann eine Funktion auf ein iterierbares Objekt (bspw. Liste oder Tupel) angewandt werden. Im gezeigten Beispiel werden alle Einträge der Liste values mithilfe der als Parameter übergebenen Funktion `str()` in Strings umgewandelt. Anschließend werden diese konvertierten Einträge mithilfe der eingebauten Funktion `join()` zu einem String verkettet. Durch den Basisstring `\\t\\t\\t` erfolgt die Verknüpfung der Einträge mit drei Tabulatoren als Trennzeichen."
   ],
   "id": "de4d42488a4b8868"
  },
  {
   "metadata": {},
   "cell_type": "code",
   "source": [
    "def print_row(values): # Format values: [Nr., Wert in kt, Wert in km/h]\n",
    "    print('\\t\\t\\t'.join(map(str, values)))"
   ],
   "id": "6e4879d637cd7d27",
   "outputs": [],
   "execution_count": null
  },
  {
   "metadata": {},
   "cell_type": "markdown",
   "source": "### Testfunktion",
   "id": "dc705661161be8d5"
  },
  {
   "metadata": {},
   "cell_type": "code",
   "source": [
    "row_count = 0\n",
    "print_row([\"Nr.\", \"kt\", \"km/h\"])\n",
    "\n",
    "while True:\n",
    "    user_input = float(input('Geben Sie einen Wert in Knoten ein: '))\n",
    "    if user_input == 0:\n",
    "        break\n",
    "    row_count += 1\n",
    "    print_row([row_count, user_input, convert_to_kmh(user_input)])"
   ],
   "id": "cf7d282ed49dea75",
   "outputs": [],
   "execution_count": null
  }
 ],
 "metadata": {
  "kernelspec": {
   "display_name": "Python 3",
   "language": "python",
   "name": "python3"
  },
  "language_info": {
   "codemirror_mode": {
    "name": "ipython",
    "version": 2
   },
   "file_extension": ".py",
   "mimetype": "text/x-python",
   "name": "python",
   "nbconvert_exporter": "python",
   "pygments_lexer": "ipython2",
   "version": "2.7.6"
  }
 },
 "nbformat": 4,
 "nbformat_minor": 5
}
