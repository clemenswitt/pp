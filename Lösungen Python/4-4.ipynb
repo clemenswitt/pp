{
 "cells": [
  {
   "metadata": {},
   "cell_type": "markdown",
   "source": [
    "# 4.4 –\tUmrechnung von Temperaturen in die verschiedenen Temperaturskalen\n",
    "\n",
    "Die Umrechnung in die verschiedenen Temperaturskalen zeigt folgende Tabelle:\n",
    "\n",
    "![](../Assets/Temperaturen.png)\n",
    "\n",
    "Beschreiben Sie einen Algorithmus zur Umrechnung von Celsius-Temperaturen in Kelvin-Temperatur (Eingabe Umrechnung Ausgabe) mittels einer Diagrammsprache. Erweitern Sie den Algorithmus dahingehend, dass zusätzlich eingegeben wird, ob die Umrechnung von °K in °C oder umgekehrt erfolgen soll. Implementieren Sie diesen in der Sprache Python. Erweitern Sie das Programm, so dass Umrechnungen aus allen der 4 angegebenen Temperaturskalen in alle 4 möglich sind.\n"
   ],
   "id": "8c636850e8c293a9"
  },
  {
   "metadata": {},
   "cell_type": "markdown",
   "source": "### Funktionale Definiton der Umrechnungsfunktionen",
   "id": "2c773896fdf41f86"
  },
  {
   "cell_type": "code",
   "id": "initial_id",
   "metadata": {
    "collapsed": true
   },
   "source": [
    "def celsius_to_fahrenheit(celsius):\n",
    "    return (celsius * 9/5) + 32\n",
    "\n",
    "def celsius_to_kelvin(celsius):\n",
    "    return celsius + 273.15\n",
    "\n",
    "def fahrenheit_to_celsius(fahrenheit):\n",
    "    return (fahrenheit - 32) * 5/9\n",
    "\n",
    "def fahrenheit_to_kelvin(fahrenheit):\n",
    "    celsius = fahrenheit_to_celsius(fahrenheit)\n",
    "    return celsius_to_kelvin(celsius)\n",
    "\n",
    "def kelvin_to_celsius(kelvin):\n",
    "    return kelvin - 273.15\n",
    "\n",
    "def kelvin_to_fahrenheit(kelvin):\n",
    "    celsius = kelvin_to_celsius(kelvin)\n",
    "    return celsius_to_fahrenheit(celsius)"
   ],
   "outputs": [],
   "execution_count": null
  },
  {
   "metadata": {},
   "cell_type": "markdown",
   "source": "### Eingabeschleife",
   "id": "c1e6aca8958c113b"
  },
  {
   "metadata": {},
   "cell_type": "code",
   "source": [
    "while True:\n",
    "    key = str(input(\"Neue Eingabe (Y/N): \").upper())\n",
    "    if key == \"N\":\n",
    "        break\n",
    "    elif key == \"Y\":\n",
    "        try:\n",
    "            temperature = float(input(\"Geben Sie die Temperatur ein: \"))\n",
    "            scale = input(\"Geben Sie die aktuelle Temperaturskala ein (C/F/K): \").upper()\n",
    "\n",
    "            if scale == 'C':\n",
    "                print(f\"{temperature} Grad Celsius entsprechen {celsius_to_fahrenheit(temperature):.2f} Grad Fahrenheit und {celsius_to_kelvin(temperature):.2f} Kelvin\")\n",
    "            elif scale == 'F':\n",
    "                print(f\"{temperature} Grad Fahrenheit entsprechen {fahrenheit_to_celsius(temperature):.2f} Grad Celsius und {fahrenheit_to_kelvin(temperature):.2f} Kelvin\")\n",
    "            elif scale == 'K':\n",
    "                print(f\"{temperature} Kelvin entsprechen {kelvin_to_celsius(temperature):.2f} Grad Celsius und {kelvin_to_fahrenheit(temperature):.2f} Grad Fahrenheit\")\n",
    "            else:\n",
    "                print(\"Ungültige Eingabe. Bitte geben Sie C, F oder K ein.\")\n",
    "        \n",
    "        except ValueError:\n",
    "            print(\"Ungültige Eingabe. Bitte geben Sie eine numerische Temperatur ein.\")\n",
    "    \n",
    "    else:\n",
    "        print(\"Ungültige Eingabe. Bitte geben Sie Y – für Ja, N – für Nein ein.\")"
   ],
   "id": "4a198703cc642c67",
   "outputs": [],
   "execution_count": null
  }
 ],
 "metadata": {
  "kernelspec": {
   "display_name": "Python 3",
   "language": "python",
   "name": "python3"
  },
  "language_info": {
   "codemirror_mode": {
    "name": "ipython",
    "version": 2
   },
   "file_extension": ".py",
   "mimetype": "text/x-python",
   "name": "python",
   "nbconvert_exporter": "python",
   "pygments_lexer": "ipython2",
   "version": "2.7.6"
  }
 },
 "nbformat": 4,
 "nbformat_minor": 5
}
