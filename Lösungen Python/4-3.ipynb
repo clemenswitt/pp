{
 "cells": [
  {
   "metadata": {},
   "cell_type": "markdown",
   "source": [
    "# Aufgabe 4.3 – Kapitalentwicklung\n",
    "\n",
    "Erstellen Sie ein Python-Programm, das zu einem einzulesenden Anfangskapital die Anzahl der Jahre berechnet, bis eine einzulesende Zielsumme erreicht ist. \n",
    "\n",
    "**Hinweis:** Der Zinssatz beträgt im ersten Jahr 1% und steigt jährlich um 10% (1. Jahr: 1%, 2. Jahr: 1,1%, 3. Jahr: 1,21% usw.) Der Höchstzinssatz wird auf 5% beschränkt. \n",
    "\n",
    "Testen Sie Ihr Programm mit einem Anfangskapital von 1000 € und einer Zielsumme von 1600€."
   ],
   "id": "39b25cc347aff0ec"
  },
  {
   "metadata": {},
   "cell_type": "markdown",
   "source": "### Funktionale Definition benötigter Funktionen",
   "id": "71ed0fa2fc11cc31"
  },
  {
   "cell_type": "code",
   "id": "initial_id",
   "metadata": {
    "collapsed": true
   },
   "source": [
    "def zinssatz(jahr):\n",
    "    return min(1 * (1.1 ** (jahr - 1)), 5)\n",
    "\n",
    "def kapitalentwicklung(kapital, jahr):\n",
    "    return kapital + kapital * zinssatz(jahr) / 100\n",
    "\n",
    "def berechne_jahre(anfangskapital, zielsumme, jahr=1):\n",
    "    return jahr - 1 if anfangskapital >= zielsumme else berechne_jahre(kapitalentwicklung(anfangskapital, jahr), zielsumme, jahr + 1)"
   ],
   "outputs": [],
   "execution_count": null
  },
  {
   "metadata": {},
   "cell_type": "markdown",
   "source": "### Testaufruf",
   "id": "d0faf91ae69335de"
  },
  {
   "metadata": {},
   "cell_type": "code",
   "source": "print(f\"Benötigte Jahre: {berechne_jahre(1000, 1600)}\")",
   "id": "68b135cb22e83572",
   "outputs": [],
   "execution_count": null
  }
 ],
 "metadata": {
  "kernelspec": {
   "display_name": "Python 3",
   "language": "python",
   "name": "python3"
  },
  "language_info": {
   "codemirror_mode": {
    "name": "ipython",
    "version": 2
   },
   "file_extension": ".py",
   "mimetype": "text/x-python",
   "name": "python",
   "nbconvert_exporter": "python",
   "pygments_lexer": "ipython2",
   "version": "2.7.6"
  }
 },
 "nbformat": 4,
 "nbformat_minor": 5
}
