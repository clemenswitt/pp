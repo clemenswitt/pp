{
 "cells": [
  {
   "metadata": {},
   "cell_type": "markdown",
   "source": [
    "# Aufgabe 1.10 – Maclaurinsche Reihen\n",
    "Die Reihenentwicklung verwendet man in der numerischen Mathematik zwecks Annäherung von analytischen Funktionen durch Polynome n-ten Grades. Dabei wird jedes weitere Glied im Polynom immer kleiner.\n",
    "Im Folgenden sind die sogenannten **Maclaurinschen Reihen** für die vier Funktionen $e^x$, $sin(x)$, $cos(x)$, $ln(1+x)$ aufgeführt: \n",
    "\n",
    "- $e^x = \\sum_{n=0}^\\infty \\frac{x^n}{n!} = \\frac{x^0}{0!} + \\frac{x^1}{1!} + \\frac{x^2}{2!} + ... \\;$ für alle $x \\in r$\n",
    "- $sin(x) = \\sum_{n=0}^\\infty (-1)^n \\frac{x^{2n+1}}{(2n+1)!} = \\frac{x}{1!} - \\frac{x^3}{3!} + \\frac{x^5}{5!} \\pm ... \\;$ für alle $x \\in r$\n",
    "- $cos(x) = \\sum_{n=0}^\\infty (-1)^n \\frac{x^{2n}}{(2n)!} = \\frac{x^0}{0!} - \\frac{x^2}{2!} + \\frac{x^4}{4!} \\pm ... \\;$ für alle $x \\in r$\n",
    "- $ln(1+x) = \\sum_{n=1}^\\infty (-1)^{n+1}\\frac{x^n}{n} = x - \\frac{x^2}{2} + \\frac{x^3}{3} - \\frac{x^4}{4} + ... \\;$ für $-1 < x < 1$\n",
    "\n",
    "Beschreiben Sie zwei iterative Algorithmen für die Reihenentwicklung der o.g. Funktionen zwecks Annäherung an die analytischen Funktionen in Form von NSD. Programmieren Sie diese Reihen als Funktionen mit den folgenden Namen: `expo()`, `sinu()`, `cosi()`, `loga()`. Verwenden Sie keine Standardfunktionen aus `math`, da die Lösung sonst trivial ist. Erweitern Sie das Programm um die alternative Berechnung mittels der Funktionen der Standardbibliothek und vergleichen (verifizieren) Sie Ihre Ergebnisse mit den vorherigen. Diskutieren Sie die Genauigkeit der Ergebnisse.\n"
   ],
   "id": "200308f971114674"
  },
  {
   "metadata": {},
   "cell_type": "markdown",
   "source": [
    "### Nassi-Shneiderman-Diagramme – Beispiel $e^x$:\n",
    "|            Iterative Funktion            |            Rekursive Funktion            |\n",
    "|:----------------------------------------:|:----------------------------------------:|\n",
    "| ![](../Assets/Export/1-10_iterative.png) | ![](../Assets/Export/1-10_recursive.png) | "
   ],
   "id": "d0bcdea29b3a515c"
  },
  {
   "metadata": {},
   "cell_type": "markdown",
   "source": [
    "### Hilfsfunktion zur Berechnung von $n!$ definieren:\n",
    "Zur Berechnung der ersten Glieder der gegebenen Maclaurinschen Reihen sollen keine Funktionen aus importierten Bibliotheken verwendet werden. Da die Berechnungsvorschriften der Reihen für $e^x$, $sin(x)$ und $cos(x)$ auf die Berechnung von Fakultäten angewiesen sind, soll zunächst die Hilfsfunktion `factorial(n)` definiert werden.  "
   ],
   "id": "e6317b67386420f3"
  },
  {
   "metadata": {},
   "cell_type": "code",
   "source": [
    "def factorial(n):\n",
    "    if n <= 1: return 1\n",
    "    return n * factorial(n-1)"
   ],
   "id": "cdd651e5ce108f55",
   "outputs": [],
   "execution_count": null
  },
  {
   "metadata": {},
   "cell_type": "markdown",
   "source": "### Berechnungsvorschrift der Maclaurinschen Reihe für $e^x$ definieren:",
   "id": "7f37f2ad61a2b0b5"
  },
  {
   "metadata": {},
   "cell_type": "code",
   "source": [
    "def expo(x, depth=10, n=0, sum=0):\n",
    "    if n < depth: return expo(x, depth, n+1, sum + x**n / factorial(n))\n",
    "    return sum"
   ],
   "id": "891ba2935f5861c4",
   "outputs": [],
   "execution_count": null
  },
  {
   "metadata": {},
   "cell_type": "markdown",
   "source": "### Berechnungsvorschrift der Maclaurinschen Reihe für $sin(x)$ definieren:",
   "id": "51e0da0c48caeca2"
  },
  {
   "metadata": {},
   "cell_type": "code",
   "source": [
    "def sinu(x, depth=10, n=0, sum=0):\n",
    "    if n < depth: return sinu(x, depth, n+1, sum + (-1)**n * x**(2*n + 1) / factorial(2*n + 1))\n",
    "    return sum"
   ],
   "id": "68410a25b297b3a9",
   "outputs": [],
   "execution_count": null
  },
  {
   "metadata": {},
   "cell_type": "markdown",
   "source": "### Berechnungsvorschrift der Maclaurinschen Reihe für $cos(x)$ definieren:",
   "id": "aaed2eb99f38ce4"
  },
  {
   "metadata": {},
   "cell_type": "code",
   "source": [
    "def cosi(x, depth=10, n=0, sum=0):\n",
    "    if n < depth: return cosi(x, depth, n+1, sum + (-1)**n * x**(2*n) / factorial(2*n))\n",
    "    return sum"
   ],
   "id": "3a5a436be6960fd2",
   "outputs": [],
   "execution_count": null
  },
  {
   "metadata": {},
   "cell_type": "markdown",
   "source": "### Berechnungsvorschrift der Maclaurinschen Reihe für $ln(1+x)$ definieren:",
   "id": "6a2266aafd648cf"
  },
  {
   "metadata": {},
   "cell_type": "code",
   "source": [
    "def loga(x, depth=10, n=1, sum=0):\n",
    "    if x <= -1: raise ValueError(\"x liegt außerhalb des Definitionsbereichs von ln(1+x)\")\n",
    "    if abs(x) > 1: raise ValueError(\"x liegt außerhalb des Definitionsbereichs der Maclaurinschen Reihe für ln(1+x)\") \n",
    "    if n < depth: return loga(x, depth, n+1, sum + (-1)**(n + 1) * (x**n) / n )\n",
    "    return sum"
   ],
   "id": "f267da9a4a221ffc",
   "outputs": [],
   "execution_count": null
  },
  {
   "metadata": {},
   "cell_type": "markdown",
   "source": "### Testdaten:",
   "id": "70150e919677d82d"
  },
  {
   "metadata": {},
   "cell_type": "code",
   "source": [
    "import math\n",
    "print(f\"Abweichung der Funktion expo() für x = 2: {expo(2) - math.exp(2)}\")\n",
    "print(f\"Abweichung der Funktion sinu() für x = π: {sinu(math.pi) - math.sin(math.pi)}\")\n",
    "print(f\"Abweichung der Funktion cosi() für x = π/3: {cosi(math.pi /3) - math.cos(math.pi / 3)}\")\n",
    "print(f\"Abweichung der Funktion loga() für x = 0.85: {loga(0.85) - math.log1p(0.85)}\") # math.log1p(x) = ln(1+x)"
   ],
   "id": "264ea6b8fd425a25",
   "outputs": [],
   "execution_count": null
  }
 ],
 "metadata": {
  "kernelspec": {
   "display_name": "Python 3",
   "language": "python",
   "name": "python3"
  },
  "language_info": {
   "codemirror_mode": {
    "name": "ipython",
    "version": 2
   },
   "file_extension": ".py",
   "mimetype": "text/x-python",
   "name": "python",
   "nbconvert_exporter": "python",
   "pygments_lexer": "ipython2",
   "version": "2.7.6"
  }
 },
 "nbformat": 4,
 "nbformat_minor": 5
}
