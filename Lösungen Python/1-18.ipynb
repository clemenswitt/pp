{
 "cells": [
  {
   "metadata": {},
   "cell_type": "markdown",
   "source": [
    "# Aufgabe 1.18 – Parallelschaltung von Widerständen\n",
    "\n",
    "Der Gesamtwiderstand Rges einer Parallelschaltung mit $R_1$, $R_2$, $R_3$, $…$ ist kleiner als der kleinste Einzelwiderstand:\n",
    "\n",
    "$$\\frac{1}{R_{ges}} = \\frac{1}{R_1} + \\frac{1}{R_2} + \\frac{1}{R_3} + ...$$\n",
    "\n",
    "Schreiben Sie ein Programm zur Berechnung des Gesamtwiderstandes in einer Parallelschaltung von mehreren Widerständen.\n",
    "\n",
    "**Hinweis:** Geben Sie die Anzahl $N$ der Widerstände ein. Geben Sie die Widerstände $R_1$, $R_2$, $R_3$, $…$ im Einzelnen per `input()` ein.\n"
   ],
   "id": "e31c06e39b8b6190"
  },
  {
   "metadata": {},
   "cell_type": "markdown",
   "source": "### Gegebene Testdaten:",
   "id": "625cf2e3ad9b6f60"
  },
  {
   "metadata": {},
   "cell_type": "code",
   "source": [
    "test_values = [\n",
    "    [10, 20, 50, 100, 500, 1000],\n",
    "    [100e3, 100e3, 100e3, 10e3],\n",
    "    [50e3, 50e3, 50e3, 50e3, 50e3]\n",
    "]"
   ],
   "id": "7ebb3cfaf760f03a",
   "outputs": [],
   "execution_count": null
  },
  {
   "metadata": {},
   "cell_type": "markdown",
   "source": "### Definition der Berechnungsfunktion für $R_{ges}$",
   "id": "b6d6bc35013c5b97"
  },
  {
   "cell_type": "code",
   "id": "initial_id",
   "metadata": {
    "collapsed": true
   },
   "source": [
    "def r_parallel(r_values):\n",
    "    return 1 / sum(1/r for r in r_values)"
   ],
   "outputs": [],
   "execution_count": null
  },
  {
   "metadata": {},
   "cell_type": "markdown",
   "source": "### Funktion zur Aufnahme von Eingabewerten",
   "id": "a8caf41c42818403"
  },
  {
   "metadata": {},
   "cell_type": "code",
   "source": [
    "def enter_values():\n",
    "    r_values = []\n",
    "    for i in range(int(input(\"Geben Sie die Anzahl der parallelgeschaltenen Widerstände ein: \"))):\n",
    "        r_values.append(float(input(f\"Geben Sie den Wert für den {i+1}. Widerstand ein: \")))\n",
    "    return r_values"
   ],
   "id": "f0351cb78e9963d8",
   "outputs": [],
   "execution_count": null
  },
  {
   "metadata": {},
   "cell_type": "markdown",
   "source": "### Testschleife",
   "id": "b1eb9ac62bccf5a3"
  },
  {
   "metadata": {},
   "cell_type": "code",
   "source": [
    "for row in test_values:\n",
    "    print(f\"{round(r_parallel(row), 3)}Ω\")"
   ],
   "id": "cc7f4864e6b18534",
   "outputs": [],
   "execution_count": null
  },
  {
   "metadata": {},
   "cell_type": "markdown",
   "source": "### Eingabeschleife",
   "id": "3da7081315ae93e2"
  },
  {
   "metadata": {},
   "cell_type": "code",
   "source": [
    "while True:\n",
    "    print(r_parallel(enter_values()))"
   ],
   "id": "dd61efe9ce5167df",
   "outputs": [],
   "execution_count": null
  }
 ],
 "metadata": {
  "kernelspec": {
   "display_name": "Python 3",
   "language": "python",
   "name": "python3"
  },
  "language_info": {
   "codemirror_mode": {
    "name": "ipython",
    "version": 2
   },
   "file_extension": ".py",
   "mimetype": "text/x-python",
   "name": "python",
   "nbconvert_exporter": "python",
   "pygments_lexer": "ipython2",
   "version": "2.7.6"
  }
 },
 "nbformat": 4,
 "nbformat_minor": 5
}
