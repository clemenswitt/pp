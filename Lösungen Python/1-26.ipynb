{
 "cells": [
  {
   "metadata": {},
   "cell_type": "markdown",
   "source": [
    "# Aufgabe 1.26 – Arbeit mit Feldern und Zufallszahlen \n",
    "\n",
    "Ein Feld mit max. 50 Elementen vom Typ `double` soll mit float-Zufallszahlen (zwischen $1.0 … 100.0$) belegt werden. Die obere Grenze des Feldes ist variabel ($N = 2 … 50$).\n",
    "Ermitteln Sie aus dem mit Zufallszahlen belegtem Feld das arithmetische Mittel sowie die größte und kleinste Zahl: `MEAN`, `BIG`, `SMALL`. Geben Sie das Ergebnis in tabellarischer Form unter Nutzung des Tabulators `\\t` aus.\n",
    "Sortieren Sie das obige Feld mittels des VerfahrensBubble Sort. Geben Sie das Ergebnis in tabellarischer Form unter Nutzung des Tabulators `\\t` aus!"
   ],
   "id": "3dbc1d1f03e59c19"
  },
  {
   "metadata": {},
   "cell_type": "markdown",
   "source": "### Funktion zur Initialisierung einer Liste zufälliger Länge, bestehend aus Float-Zufallszahlen",
   "id": "a40bdc39bb9cd5a2"
  },
  {
   "cell_type": "code",
   "id": "initial_id",
   "metadata": {
    "collapsed": true
   },
   "source": [
    "import random\n",
    "\n",
    "def init_field(min_n=2, max_n=50, min_val=1, max_val=100):\n",
    "    return [random.uniform(min_val, max_val) for _ in range(random.randint(min_n, max_n))]"
   ],
   "outputs": [],
   "execution_count": null
  },
  {
   "metadata": {},
   "cell_type": "markdown",
   "source": "### Funktion – BubbleSort-Algorithmus",
   "id": "54562e179753108c"
  },
  {
   "metadata": {},
   "cell_type": "code",
   "source": [
    "def bubble_sort(arr):\n",
    "    for i in range(len(arr)):\n",
    "        for j in range(len(arr)-i-1):\n",
    "            if arr[j] > arr[j + 1]:\n",
    "                arr[j], arr[j + 1] = arr[j + 1], arr[j]\n",
    "    return arr"
   ],
   "id": "e67cc063cb346fc6",
   "outputs": [],
   "execution_count": null
  },
  {
   "metadata": {},
   "cell_type": "markdown",
   "source": "### Bestimmung der kleinsten und größten Zahl sowie des arithmetischen Mittels einer zufällig initialisierten Liste",
   "id": "c640d70e3c3761f4"
  },
  {
   "metadata": {},
   "cell_type": "code",
   "source": [
    "field = bubble_sort(init_field())\n",
    "MEAN = sum(field) / len(field)\n",
    "SMALL = min(field)\n",
    "BIG = max(field)\n",
    "\n",
    "print(f\"LEN: {len(field)} \\t MEAN: {round(MEAN, 3)} \\t SMALL: {round(SMALL, 3)} \\t BIG: {round(BIG, 3)}\")"
   ],
   "id": "3c34b64e24328c74",
   "outputs": [],
   "execution_count": null
  }
 ],
 "metadata": {
  "kernelspec": {
   "display_name": "Python 3",
   "language": "python",
   "name": "python3"
  },
  "language_info": {
   "codemirror_mode": {
    "name": "ipython",
    "version": 2
   },
   "file_extension": ".py",
   "mimetype": "text/x-python",
   "name": "python",
   "nbconvert_exporter": "python",
   "pygments_lexer": "ipython2",
   "version": "2.7.6"
  }
 },
 "nbformat": 4,
 "nbformat_minor": 5
}
