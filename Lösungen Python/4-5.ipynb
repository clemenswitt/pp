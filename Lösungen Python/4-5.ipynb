{
 "cells": [
  {
   "metadata": {},
   "cell_type": "markdown",
   "source": [
    "# 4.5 – Harmonici Mundi nach Kepler\n",
    "\n",
    "Berechnen Sie die Umlaufperiode T = T(h) für die Fälle jeweils:\n",
    "- eines Navigations-SAT ($h = 20.222km$), bspw. GPS\n",
    "- eines GEO-SAT ($h = 36.000km$), bspw. Astra\n",
    "- eines MEO-SAT ($h = 12.000 km$)  \n",
    "- eines LEO-SAT ($h = 370 … 700km$), bspw. Starlink?\n",
    "\n",
    "Schreiben Sie das Python-Programm zur Berechnung. Wie schnell bewegt sich jeder von o.g. Satellitentypen? Berechnen Sie seine lineare Geschwindigkeit. "
   ],
   "id": "a0177ddc3f532770"
  },
  {
   "metadata": {},
   "cell_type": "markdown",
   "source": "### Definition benötigter Konstanten als Funktionen",
   "id": "6325ba85f7ec5c85"
  },
  {
   "metadata": {},
   "cell_type": "code",
   "source": [
    "import math\n",
    "\n",
    "# Definition der Konstanten\n",
    "def g(): return 9.81  # Gravitationskonstante [N/kg]\n",
    "def R(): return 6371  # Erdradius [km]\n",
    "def const(): return 4 * math.pi**2 / (g() * (R() * 1000)**2)  # J. Keplers Konstante"
   ],
   "id": "a101ae2be586acab",
   "outputs": [],
   "execution_count": null
  },
  {
   "metadata": {},
   "cell_type": "markdown",
   "source": "### Definition benötigter Hilfsfunktionen",
   "id": "23e4bc1faece31ea"
  },
  {
   "cell_type": "code",
   "id": "initial_id",
   "metadata": {
    "collapsed": true
   },
   "source": [
    "# Berechnung des Radius (r = R + h)\n",
    "def radius(h): return (R() + h) * 1000  # Radius [m]\n",
    "\n",
    "# Berechnung der Orbitalperiode T (in Sekunden)\n",
    "def orbital_period(h): return math.sqrt(const() * radius(h)**3)\n",
    "\n",
    "# Berechnung der linearen Geschwindigkeit v [m/s]\n",
    "def linear_velocity(h):\n",
    "    T = orbital_period(h)  # Umlaufperiode in Sekunden\n",
    "    return 2 * math.pi * radius(h) / T  # Geschwindigkeit [m/s]\n",
    "\n",
    "# Hilfsfunktionen zur Umrechnung und Anzeige der Ergebnisse\n",
    "def orbital_period_in_hours(h): return orbital_period(h) / 3600  # Umrechnung in Stunden\n",
    "def linear_velocity_kmh(h): return linear_velocity(h) * 3.6  # Umrechnung in km/h"
   ],
   "outputs": [],
   "execution_count": null
  },
  {
   "metadata": {},
   "cell_type": "markdown",
   "source": "### Funktionale Berechnung und Ausgabe der Satellitenhöhen, -umlaufzeiten und -geschwindigkeiten",
   "id": "1433d5fd0cfed8aa"
  },
  {
   "metadata": {},
   "cell_type": "code",
   "source": [
    "def calculate_satellite_data():\n",
    "    return [\n",
    "        (\"GPS (20,222 km)\", 20222, orbital_period_in_hours(20222), linear_velocity_kmh(20222)),\n",
    "        (\"GEO (36,000 km)\", 36000, orbital_period_in_hours(36000), linear_velocity_kmh(36000)),\n",
    "        (\"MEO (12,000 km)\", 12000, orbital_period_in_hours(12000), linear_velocity_kmh(12000)),\n",
    "        (\"LEO (370 km)\", 370, orbital_period_in_hours(370), linear_velocity_kmh(370)),\n",
    "        (\"LEO (700 km)\", 700, orbital_period_in_hours(700), linear_velocity_kmh(700)),\n",
    "    ]\n",
    "\n",
    "print(f\"{'Satellitentyp'}\\t{'h [km]'}\\t{'T [h]'}\\t{'v [km/h]'}\")\n",
    "\n",
    "def print_satellite_data():\n",
    "    return \"\\n\".join(\n",
    "        map(\n",
    "            lambda sat: f\"{sat[0]}\\t{sat[1]}\\t{round(sat[2], 3)}\\t{round(sat[3], 3)}\",\n",
    "            calculate_satellite_data()\n",
    "        )\n",
    "    )\n",
    "\n",
    "print(print_satellite_data())"
   ],
   "id": "1d2db4841f8d5d19",
   "outputs": [],
   "execution_count": null
  }
 ],
 "metadata": {
  "kernelspec": {
   "display_name": "Python 3",
   "language": "python",
   "name": "python3"
  },
  "language_info": {
   "codemirror_mode": {
    "name": "ipython",
    "version": 2
   },
   "file_extension": ".py",
   "mimetype": "text/x-python",
   "name": "python",
   "nbconvert_exporter": "python",
   "pygments_lexer": "ipython2",
   "version": "2.7.6"
  }
 },
 "nbformat": 4,
 "nbformat_minor": 5
}
