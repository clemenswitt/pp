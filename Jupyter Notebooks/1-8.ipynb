{
 "cells": [
  {
   "metadata": {},
   "cell_type": "markdown",
   "source": [
    "# Aufgabe 1.8 – Summenformel und Reihenentwicklung\n",
    "Für ein einzugebendes $n$ soll eine Summe $s(n)$ nach folgenden Formeln berechnet und ausgegeben werden:\n",
    "- $s(n) = 1 + \\frac{1}{2} + \\frac{1}{3} + \\frac{1}{4} + … + \\frac{1}{n} \\hspace{1cm}$ (alle $n$)\n",
    "- $s(n) = 1 + \\frac{1}{3} + \\frac{1}{5} + \\frac{1}{7} + … + \\frac{1}{n} \\hspace{1cm}$ (ungerade $n$)\n",
    "- $s(n) = 1 -\\frac{1}{2} + \\frac{1}{3} - \\frac{1}{4} \\pm … \\pm \\frac{1}{n} \\hspace{1cm}$ (Vorzeichenwechsel)\n",
    "\n",
    "Testen Sie Ihr Programm mit Werten von n=1, 10, 11, 1.000, 1001, 1.000.000 und 1.000.001."
   ],
   "id": "a62259360de0c23b"
  },
  {
   "metadata": {},
   "cell_type": "markdown",
   "source": [
    "### Nassi-Shneiderman-Diagramm\n",
    "\n",
    "| Funktion `sum_all_n(n):` |      Funktion `sum_uneven_n(n)`       |    Funktion `sum_all_n_alternating_sign(n)`     | Funktionsaufruf |\n",
    "|:------------------------:|:-------------------------------------:|:-----------------------------------------------:|:---:|\n",
    "|   ![](../Assets/Export/1-8_Sum_All.png)    | ![](../Assets/Export/1-8_Sum_Uneven.png) | ![](../Assets/Export/1-8_Sum_Alternating_Sign.png) | ![](../Assets/Export/1-8.png) |"
   ],
   "id": "cee14fe9fb463185"
  },
  {
   "metadata": {},
   "cell_type": "markdown",
   "source": "### Vorgegebene Testwerte",
   "id": "11932288853fc075"
  },
  {
   "metadata": {},
   "cell_type": "code",
   "source": "test_values = [1, 10, 11, 1000, 1001, 1000000, 1000001]",
   "id": "18cf3b4a58c15289",
   "outputs": [],
   "execution_count": null
  },
  {
   "metadata": {},
   "cell_type": "markdown",
   "source": "### Summenformel für alle $n$:",
   "id": "d4f4da1d3a5a1332"
  },
  {
   "cell_type": "code",
   "id": "initial_id",
   "metadata": {
    "collapsed": true
   },
   "source": [
    "def sum_all_n(n):\n",
    "    total = 0\n",
    "    for i in range(1, n+1):\n",
    "        total += 1 / i\n",
    "    return total"
   ],
   "outputs": [],
   "execution_count": null
  },
  {
   "metadata": {},
   "cell_type": "markdown",
   "source": "### Summenformel für alle ungeraden $n$:",
   "id": "419a19dfdbcda8b0"
  },
  {
   "metadata": {},
   "cell_type": "code",
   "source": [
    "def sum_uneven_n(n):\n",
    "    total = 0\n",
    "    for i in range(1, n+1, 2):\n",
    "        total += 1 / i\n",
    "    return total"
   ],
   "id": "748233a6a87b52b0",
   "outputs": [],
   "execution_count": null
  },
  {
   "metadata": {},
   "cell_type": "markdown",
   "source": "### Summenformel für alle $n$ mit Vorzeichenwechsel:",
   "id": "245cbfda022c32b4"
  },
  {
   "metadata": {},
   "cell_type": "code",
   "source": [
    "def sum_all_n_alternating_sign(n):\n",
    "    total = 0\n",
    "    sign = 1\n",
    "    for i in range(1, n+1):\n",
    "        total += sign / i\n",
    "        sign *= -1\n",
    "    return total"
   ],
   "id": "3492618920cac656",
   "outputs": [],
   "execution_count": null
  },
  {
   "metadata": {},
   "cell_type": "markdown",
   "source": "### Test der Funktionen",
   "id": "2f01c2aeeb4ceb7b"
  },
  {
   "metadata": {},
   "cell_type": "code",
   "source": [
    "for value in test_values:\n",
    "    print(f\"Alle n: {sum_all_n(value)},   Ungerade n: {sum_uneven_n(value)},   VZ-Wechsel: {sum_all_n_alternating_sign(value)}\")"
   ],
   "id": "aa3a67b8eea98cda",
   "outputs": [],
   "execution_count": null
  }
 ],
 "metadata": {
  "kernelspec": {
   "display_name": "Python 3",
   "language": "python",
   "name": "python3"
  },
  "language_info": {
   "codemirror_mode": {
    "name": "ipython",
    "version": 2
   },
   "file_extension": ".py",
   "mimetype": "text/x-python",
   "name": "python",
   "nbconvert_exporter": "python",
   "pygments_lexer": "ipython2",
   "version": "2.7.6"
  }
 },
 "nbformat": 4,
 "nbformat_minor": 5
}
