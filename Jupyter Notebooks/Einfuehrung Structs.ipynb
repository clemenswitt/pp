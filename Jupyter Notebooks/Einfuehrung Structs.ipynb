{
 "cells": [
  {
   "cell_type": "markdown",
   "id": "b876538c",
   "metadata": {},
   "source": [
    "# Einführung in Strukturen \n",
    "\n",
    "### Motivation für den Einsatz von Strukturen \n",
    "Angenommen, es soll ein Programm entwickelt werden, das Informationen über einen Mitarbeiter speichert und verwaltet. Dabei stellt sich die zentrale Frage: Wie können diese Daten abgelegt werden? \n",
    "\n",
    "Eine Lösung könnte beispielsweise der folgende C++-Code sein:\n"
   ]
  },
  {
   "cell_type": "code",
   "execution_count": null,
   "id": "ea9fab8e",
   "metadata": {},
   "outputs": [],
   "source": [
    "std::string name;\n",
    "std::string title;\n",
    "int id;\n",
    "double wage;\n",
    "int birthYear;\n",
    "int birthMonth;\n",
    "int birthDay;"
   ]
  },
  {
   "cell_type": "markdown",
   "id": "cb2eef63",
   "metadata": {},
   "source": [
    "Der beschriebene Ansatz weist mehrere Schwächen auf:  \n",
    "1. Es müssten sieben einzelne Variablen verwaltet werden, was die Übersichtlichkeit deutlich beeinträchtigt.  \n",
    "2. Der Kontext der Variablen ist nicht unmittelbar ersichtlich.  \n",
    "3. Bei der Übergabe der Daten an eine Funktion müssten sieben separate Eingabeparameter definiert werden.  \n",
    "4. Sollten die Daten durch eine Funktion zurückgegeben werden, stellt sich die Frage nach der Umsetzung, da Funktionen in C++ nur einen Rückgabewert liefern können.  \n",
    "\n",
    "An dieser Stelle bieten Strukturen (Structs) eine elegante Lösung. Structs ermöglichen die Definition benutzerdefinierter Datentypen, die aus mehreren Datentypen bestehen.  \n",
    "\n",
    "Ein Struct kann in C++ wie folgt definiert werden:  \n",
    "### Definition von Structs\n"
   ]
  },
  {
   "cell_type": "code",
   "execution_count": null,
   "id": "337d4f14",
   "metadata": {},
   "outputs": [],
   "source": [
    "//normale Syntax in Cpp\n",
    "struct MitarbeiterI {\n",
    "    std::string name;\n",
    "    std::string title;\n",
    "    int id;\n",
    "    double wage;\n",
    "    int birthYear;\n",
    "    int birthMonth;\n",
    "    int birthDay;\n",
    "};\n",
    "\n",
    "//normale Syntax in C\n",
    "typedef struct {\n",
    "    std::string name;\n",
    "    std::string title;\n",
    "    int id;\n",
    "    double wage;\n",
    "    int birthYear;\n",
    "    int birthMonth;\n",
    "    int birthDay;\n",
    "} MitarbeiterII;\n"
   ]
  },
  {
   "cell_type": "markdown",
   "id": "0d57f589",
   "metadata": {},
   "source": [
    "### Structs in C und Cpp\n",
    "Beim Definieren von Structs gibt es Unterschiede zwischen C und C++.\n",
    "\n",
    "In der Programmiersprache C wird häufig `typedef struct` verwendet, um die Erstellung von Variablen mit benutzerdefinierten Datentypen zu vereinfachen. Ohne `typedef` müsste der vollständige Typname, einschließlich des Präfixes `struct`, bei jeder Verwendung angegeben werden, z. B. `struct MitarbeiterII`.  \n",
    "\n",
    "In C++ ist diese zusätzliche Deklaration jedoch nicht erforderlich, da die Sprache automatisch eine vereinfachte Typdefinition bereitstellt. Der Präfix `struct` muss daher nicht explizit verwendet werden.  \n",
    "\n",
    "Nachfolgend ein Beispiel für die Erstellung einer Variable mit einem benutzerdefinierten Datentyp in C:  "
   ]
  },
  {
   "cell_type": "code",
   "execution_count": null,
   "id": "084c160f",
   "metadata": {},
   "outputs": [],
   "source": [
    "//C erstellung: Das C ist hier nur für die Unterscheidung im Namen\n",
    "struct MitarbeiterI Steffen_C;\n",
    "\n",
    "MitarbeiterII Tobias_C;"
   ]
  },
  {
   "cell_type": "code",
   "execution_count": null,
   "id": "a68a474e",
   "metadata": {},
   "outputs": [],
   "source": [
    "//Cpp Erstellung:\n",
    "MitarbeiterI Steffen;\n",
    "MitarbeiterII Tobias;"
   ]
  },
  {
   "cell_type": "markdown",
   "id": "130eeab9",
   "metadata": {},
   "source": [
    "### Ändern von Attributen innerhalb einer Struct  \n",
    "Die in einer Struct definierten Variablen, wie z. B. `wage` oder `name`, werden als **Member-Variablen** bezeichnet. Um auf diese Variablen zuzugreifen oder deren Werte zu ändern, wird der sogenannte **`.`-Operator** verwendet:  \n"
   ]
  },
  {
   "cell_type": "code",
   "execution_count": null,
   "id": "780e4f7a",
   "metadata": {},
   "outputs": [],
   "source": [
    "#include <iostream>\n",
    "\n",
    "Tobias.wage = 5000; \n",
    "\n",
    "std::cout << Tobias.wage;\n",
    "\n",
    "Tobias.wage = 6500; \n",
    "\n",
    "std::cout << Tobias.wage;"
   ]
  },
  {
   "cell_type": "markdown",
   "metadata": {},
   "source": [
    "### Initialisierung einer Struct  \n",
    "\n",
    "Analog zur Initialisierung primitiver Variablen können auch bei der Erstellung eines Struct-Objekts direkt Werte zugewiesen werden. Dies geschieht mithilfe von geschweiften Klammern `{}`, wobei die Werte in der Reihenfolge der **Member-Variablen** angegeben werden.  '\n",
    "\n",
    "Hinweis: Es ist möglich, einzelne Werte bei der Initialisierung auszulassen. In diesem Fall werden die nicht angegebenen Werte automatisch auf `0` (oder den entsprechenden Standardwert des Datentyps) gesetzt.  \n"
   ]
  },
  {
   "cell_type": "code",
   "execution_count": null,
   "id": "8ed58654",
   "metadata": {},
   "outputs": [],
   "source": [
    "MitarbeiterI Tobi {\"Tobi\", \"admin\", 4, 20000};\n",
    "\n",
    "std::cout << Tobi.name << \" \"<<  Tobi.title << \" \" << Tobi.id << \" \"<< Tobi.wage << \" \" << Tobi.birthYear;"
   ]
  },
  {
   "cell_type": "markdown",
   "metadata": {},
   "source": [
    "### Copy\n",
    "Es ist auch möglich eine Struct mit einer anderen Struct zu erstellen:"
   ]
  },
  {
   "cell_type": "code",
   "execution_count": null,
   "metadata": {},
   "outputs": [],
   "source": [
    "MitarbeiterI m_1 {\"M\", \"test\"};\n",
    "MitarbeiterI m_2 = m_1;\n",
    "\n",
    "std::cout << m_2.name << m_2.title;"
   ]
  },
  {
   "cell_type": "markdown",
   "metadata": {},
   "source": [
    "### Übergabe von Structs an Funktionen in C\n",
    "\n",
    "Bei der Übergabe einer Struct an eine Funktion wird häufig ein Pointer (`*`) auf die Struct verwendet, um unnötige Kopien zu vermeiden und die Effizienz zu erhöhen. In diesem Zusammenhang kommt der **`->`-Operator** zum Einsatz.  \n",
    "\n",
    "Der `->`-Operator vereinfacht die Kombination aus Dereferenzierungsoperator (`*`) und Punktoperator (`.`). Er ermöglicht den direkten Zugriff auf die Member-Variablen der Struct über den Pointer. Die folgende Gleichung verdeutlicht die Funktionsweise:  \n",
    "\n",
    "`[StructPointer]->[MemberVar]` == `(*[StructPointer]).[MemberVar]`\n"
   ]
  },
  {
   "cell_type": "code",
   "execution_count": null,
   "metadata": {},
   "outputs": [],
   "source": [
    "struct vector2D {\n",
    "    double x;\n",
    "    double y;\n",
    "};\n",
    "\n",
    "double skalarproduct(vector2D* vector1, vector2D* vector2) {\n",
    "    return (vector1->x * vector2->x + vector1->y * vector2->y);\n",
    "}\n",
    "\n",
    "vector2D vec1{ 5.0, 6.5 };\n",
    "vector2D vec2{ 3.0, -3.0 };\n",
    "\n",
    "std::cout << \"Das Skalarprodukt ist: \" << skalarproduct(&vec1, &vec2) << std::endl;"
   ]
  },
  {
   "cell_type": "markdown",
   "metadata": {},
   "source": [
    "### Übergabe von Structs an Funktionen in Cpp\n",
    "\n",
    "In C++ ist es nicht notwendig, ein Struct-Objekt als Pointer zu übergeben. Stattdessen kann die Struct als Referenz übergeben werden, was durch den **`&`-Operator** geschieht. Diese Methode erlaubt es, auf das ursprüngliche Objekt zuzugreifen, ohne eine Kopie der Daten zu erstellen.  \n",
    "\n",
    "Ein Vorteil der Übergabe als Referenz besteht darin, dass die übergebene Struct in der Funktion wie eine normale Variable behandelt werden kann, ohne den `->`-Operator verwenden zu müssen.  \n",
    "\n",
    "**Wichtig:** Bei der Übergabe als Referenz wird direkt auf das ursprüngliche Objekt zugegriffen. Änderungen, die in der Funktion vorgenommen werden, wirken sich daher unmittelbar auf das übergebene Objekt aus. Es erfolgt keine Kopie des Objekts.  "
   ]
  },
  {
   "cell_type": "code",
   "execution_count": null,
   "metadata": {},
   "outputs": [],
   "source": [
    "struct vector2D {\n",
    "    double x;\n",
    "    double y;\n",
    "};\n",
    "\n",
    "double skalarprodukt(const vector2D& vector1, const vector2D& vector2) {\n",
    "    return (vector1.x * vector2.x + vector1.y * vector2.y);\n",
    "}\n",
    "\n",
    "int main() {\n",
    "    vector2D vec1{ 5.0, 6.5 };\n",
    "    vector2D vec2{ 3.0, -3.0 };\n",
    "\n",
    "    std::cout << \"Das Skalarprodukt ist: \" << skalarprodukt(vec1, vec2) << std::endl;\n",
    "\n",
    "    return 0;\n",
    "}"
   ]
  },
  {
   "cell_type": "markdown",
   "metadata": {},
   "source": [
    "### Ausgabe von Structs in C++\n",
    "\n",
    "Die direkte Ausgabe von Structs auf der Konsole ist nicht ohne weiteres möglich, da der Stream-Operator `<<` in C++ nicht weiß, wie er mit einem benutzerdefinierten Datentyp umgehen soll. Um ein Struct auszugeben, müssen wir den Ausgabemechanismus explizit definieren.\n",
    "\n",
    "Es gibt zwei gängige Möglichkeiten, dies zu erreichen:\n",
    "\n",
    "1. **Verwendung einer `void`-Funktion (Prozedur):**  \n",
    "   Eine Möglichkeit besteht darin, eine separate Funktion zu definieren, die die einzelnen Elemente der Struct ausgibt. Diese Methode ist jedoch nicht besonders flexibel oder intuitiv, da sie für jede Struct einen eigenen Ausgabecode erfordert.\n",
    "\n",
    "2. **Überladen des `<<`-Operators:**  \n",
    "   Eine elegantere Lösung ist das Überladen des **`<<`-Operators** für die Struct. Dadurch können wir dem Operator mitteilen, wie er mit dem benutzerdefinierten Datentyp umgehen soll, sodass die Ausgabe über den Stream-Operator direkt möglich ist.\n",
    "\n",
    "Beispiel für das Überladen des `<<`-Operators:\n"
   ]
  },
  {
   "cell_type": "code",
   "execution_count": null,
   "metadata": {
    "vscode": {
     "languageId": "plaintext"
    }
   },
   "outputs": [],
   "source": [
    "#include <iostream>\n",
    "\n",
    "struct vector2D {\n",
    "    double x;\n",
    "    double y;\n",
    "};\n",
    "\n",
    "//Möglichkeit 1:\n",
    "void printVector2D(vector2D& vector){\n",
    "    std::cout << \"x: \" << vector.x << \", y: \" << vector.y;\n",
    "}\n",
    "\n",
    "//Möglichkeit 2: Überladen des <<-Operators für die Ausgabe eines vector2D-Objekts\n",
    "std::ostream& operator<<(std::ostream& os, const vector2D& vector) {\n",
    "    os << \"x: \" << v.x << \", y: \" << v.y;\n",
    "    return os;\n",
    "}\n",
    "\n",
    "int main() {\n",
    "    vector2D vec{ 5.0, 6.5 };\n",
    "    std::cout << vec << std::endl;  // Ausgabe des Structs\n",
    "    return 0;\n",
    "}\n"
   ]
  }
 ],
 "metadata": {
  "kernelspec": {
   "display_name": "C++17",
   "language": "C++17",
   "name": "xcpp17"
  },
  "language_info": {
   "codemirror_mode": "text/x-c++src",
   "file_extension": ".cpp",
   "mimetype": "text/x-c++src",
   "name": "c++",
   "version": "17"
  }
 },
 "nbformat": 4,
 "nbformat_minor": 2
}
