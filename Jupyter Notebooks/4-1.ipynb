{
 "cells": [
  {
   "metadata": {},
   "cell_type": "markdown",
   "source": [
    "# Aufgabe 4.1 – Ostern-Formel nach O’Beirne\n",
    "\n",
    "Schreiben Sie das Programm in der Sprache Python zum Berechnen von Osterdatum unter Nutzung von vereinfachten Algorithmus nach O’Beirne (1965). Nutzen Sie den folgenden Pseudocode:\n",
    "\n",
    "```\n",
    "N = Jahr – 1900\n",
    "A = N mod 19\n",
    "B = [(7A + 1) / 19]\n",
    "M = (11A + 4 – B) mod 29\n",
    "Q = [N / 4]\n",
    "W = (N + Q + 31 – M) mod 7\n",
    "P = 25 – M – W\n",
    "```\n",
    "Ergänzen Sie das Programm um die Funktionen für Berechnung von beweglichen Feiertagen."
   ],
   "id": "1b78c56397a2e65a"
  },
  {
   "metadata": {},
   "cell_type": "markdown",
   "source": "### Rein-funktionale Definition benötigter Hilfsfunktionen",
   "id": "8adbbd48d722b155"
  },
  {
   "cell_type": "code",
   "id": "initial_id",
   "metadata": {
    "collapsed": true,
    "ExecuteTime": {
     "end_time": "2025-01-06T13:54:47.126417Z",
     "start_time": "2025-01-06T13:54:47.122088Z"
    }
   },
   "source": [
    "def n(jahr):\n",
    "    return jahr - 1900\n",
    "\n",
    "def a(jahr):\n",
    "    return n(jahr) % 19\n",
    "\n",
    "def b(jahr):\n",
    "    return (7 * a(jahr) + 1) // 19\n",
    "\n",
    "def m(jahr):\n",
    "    return (11 * a(jahr) + 4 - b(jahr)) % 29\n",
    "\n",
    "def q(jahr):\n",
    "    return n(jahr) // 4 \n",
    "\n",
    "def w(jahr):\n",
    "    return (n(jahr) + q(jahr) + 31 - m(jahr)) % 7\n",
    "\n",
    "def p(jahr):\n",
    "    return 25 - m(jahr) - w(jahr)"
   ],
   "outputs": [],
   "execution_count": 7
  },
  {
   "metadata": {},
   "cell_type": "markdown",
   "source": "### Bestimmung des Osterdatums",
   "id": "6fdacb138362b55e"
  },
  {
   "metadata": {
    "ExecuteTime": {
     "end_time": "2025-01-06T13:54:47.129579Z",
     "start_time": "2025-01-06T13:54:47.127649Z"
    }
   },
   "cell_type": "code",
   "source": [
    "def ostern(jahr):\n",
    "    if p(jahr) > 0:\n",
    "        return p(jahr), 4\n",
    "    else:\n",
    "        return p(jahr) + 31, 3"
   ],
   "id": "5a88f979b27b4f44",
   "outputs": [],
   "execution_count": 8
  },
  {
   "metadata": {},
   "cell_type": "markdown",
   "source": "### Formatierung und Ausgabe des Osterdatums",
   "id": "2521ca2aec2de3e5"
  },
  {
   "metadata": {
    "ExecuteTime": {
     "end_time": "2025-01-06T13:54:47.136297Z",
     "start_time": "2025-01-06T13:54:47.134370Z"
    }
   },
   "cell_type": "code",
   "source": [
    "def format_ostern(jahr):\n",
    "    return f\"Ostersonntag ist im Jahr {jahr} am {\".\".join(map(str, ostern(2025)))}\"\n",
    "\n",
    "print(format_ostern(2025))"
   ],
   "id": "d4d28b2a03da3c1c",
   "outputs": [
    {
     "name": "stdout",
     "output_type": "stream",
     "text": [
      "Ostersonntag ist im Jahr 2025 am 20.4\n"
     ]
    }
   ],
   "execution_count": 9
  },
  {
   "metadata": {},
   "cell_type": "markdown",
   "source": "### Rein-funktionale Berechnung der Daten für Himmelfahrt und Pfingsten in Abhängigkeit des Osterdatums",
   "id": "6f736beabb3af1b2"
  },
  {
   "metadata": {
    "ExecuteTime": {
     "end_time": "2025-01-06T13:54:47.139684Z",
     "start_time": "2025-01-06T13:54:47.137236Z"
    }
   },
   "cell_type": "code",
   "source": [
    "def himmelfahrt(ostern_tag, ostern_monat):\n",
    "    return (\n",
    "        (ostern_tag + 39 - 31, 4) if ostern_monat == 3 and ostern_tag + 39 > 31\n",
    "        else (ostern_tag + 39 - 30, 5) if ostern_monat == 4 and ostern_tag + 39 > 30\n",
    "        else (ostern_tag + 39, 3) if ostern_monat == 3\n",
    "        else (ostern_tag + 39, 4)\n",
    "    )\n",
    "\n",
    "def pfingsten(ostern_tag, ostern_monat):\n",
    "    return (\n",
    "        (ostern_tag + 49 - 31, 4) if ostern_monat == 3 and ostern_tag + 49 > 31\n",
    "        else (ostern_tag + 49 - 30, 5) if ostern_monat == 4 and ostern_tag + 49 <= 61\n",
    "        else (ostern_tag + 49 - 30 - 31, 6) if ostern_monat == 4 and ostern_tag + 49 > 61\n",
    "        else (ostern_tag + 49, 3) if ostern_monat == 3\n",
    "        else (ostern_tag + 49, 4)\n",
    "    )"
   ],
   "id": "39b5297d74499e6b",
   "outputs": [],
   "execution_count": 10
  },
  {
   "metadata": {},
   "cell_type": "markdown",
   "source": "### Formatierung und Ausgabe der Feiertagsdaten",
   "id": "f1de6daef897af83"
  },
  {
   "metadata": {
    "ExecuteTime": {
     "end_time": "2025-01-06T13:54:47.142945Z",
     "start_time": "2025-01-06T13:54:47.140746Z"
    }
   },
   "cell_type": "code",
   "source": [
    "def format_feiertage(jahr):\n",
    "    return (f\"{format_ostern(jahr)}; Himmelfahrt ist anschließend am {\".\".join(map(str, himmelfahrt(*ostern(2025))))} und Pfingsten am {\".\".join(map(str, pfingsten(*ostern(2025))))}.\")\n",
    "    \n",
    "print(format_feiertage(2025))"
   ],
   "id": "a608fd54e4117ece",
   "outputs": [
    {
     "name": "stdout",
     "output_type": "stream",
     "text": [
      "Ostersonntag ist im Jahr 2025 am 20.4; Himmelfahrt ist anschließend am 29.5 und Pfingsten am 8.6.\n"
     ]
    }
   ],
   "execution_count": 11
  }
 ],
 "metadata": {
  "kernelspec": {
   "display_name": "Python 3",
   "language": "python",
   "name": "python3"
  },
  "language_info": {
   "codemirror_mode": {
    "name": "ipython",
    "version": 2
   },
   "file_extension": ".py",
   "mimetype": "text/x-python",
   "name": "python",
   "nbconvert_exporter": "python",
   "pygments_lexer": "ipython2",
   "version": "2.7.6"
  }
 },
 "nbformat": 4,
 "nbformat_minor": 5
}
