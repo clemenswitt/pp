{
 "cells": [
  {
   "metadata": {},
   "cell_type": "markdown",
   "source": [
    "# 4.2 – Osterdatum und bewegliche Feiertage nach Gauß\n",
    "\n",
    "Carl Friedrich Gauß veröffentlichte seine so genannte Osterformel erstmals im Jahre 1800. Aufgrund der säkularen Mondschaltung brachte Gauß 1816 eine Korrektur an die Öffentlichkeit, der Gültigkeitsraum ist: 1700-4099.\n",
    "Der korrigierte Algorithmus von 1816 für den Gregorianischen Kalender für das Jahr x lautet wie folgt: \n",
    "\n",
    "```\n",
    "a = Rest von x / 19 \n",
    "b = Rest von x / 4 \n",
    "c = Rest von x / 7 \n",
    "k = x / 100 \n",
    "p =  (8*k + 13) / 25 \n",
    "q = k / 4 \n",
    "M = Rest von (15 + k -p - q) / 30 \n",
    "N = Rest von (4 + k - q) / 7 \n",
    "d = Rest von (19*a + M) / 30 \n",
    "e = Rest von (2*b + 4*c + 6*d + N) / 7 \n",
    "Ostern = 22 + d +e \n",
    "```\n",
    "\n",
    "**Ausnahmen:**\n",
    "  1. Falls `d + e = 35`, dann `Ostern = 50`\n",
    "  2. Falls `d = 28` und `e = 6` und Rest von `(11*M + 11) / 30 < 19`, dann `Ostern = 49`. Dabei ist Ostern das Datum des Ostersonntags als Tag im März gezählt. Da der März immer 31 Tage hat, ist `Ostern > 31`, ansonsten muss man 31 von dem Ergebnis abziehen und man erhält das Datum im April.\n",
    "\n",
    " Erarbeiten Sie ein Python-Programm nach dem vorgegebenen Algorithmus, das für ein einzugebendes Jahr Ostern, Karfreitag, Himmelfahrt, Pfingsten und Fastnacht berechnet. Gliedern Sie dazu die Berechnung von Ostern sowie den zu berechnenden beweglichen Feiertagen in die Funktionen."
   ],
   "id": "fd1ca6e584291d9"
  },
  {
   "metadata": {},
   "cell_type": "markdown",
   "source": "### Funktionale Definition der Gaußschen Osterformel mittels Lambda-Funktion",
   "id": "23eaa6b15025d685"
  },
  {
   "cell_type": "code",
   "id": "initial_id",
   "metadata": {
    "collapsed": true
   },
   "source": [
    "def osterformel(x):\n",
    "    return (\n",
    "        # Lambda-Funktion zur Berechnung der Osterformel\n",
    "        lambda a, b, c, k, p, q, M, N, d, e: (\n",
    "            50 if d + e == 35 else\n",
    "            49 if (d == 28 and e == 6 and ((11 * M + 11) % 30) < 19) else\n",
    "            22 + d + e # Regulärer Fall\n",
    "        )\n",
    "    )(\n",
    "        # Definition der Parameterwerte, mit denen die Lambdafunktion aufgerufen werden soll\n",
    "        x % 19,  # a\n",
    "        x % 4,   # b\n",
    "        x % 7,   # c\n",
    "        x // 100,  # k\n",
    "        (8 * (x // 100) + 13) // 25,  # p\n",
    "        (x // 100) // 4,  # q\n",
    "        (15 + (x // 100) - ((8 * (x // 100) + 13) // 25) - ((x // 100) // 4)) % 30,  # M\n",
    "        (4 + (x // 100) - ((x // 100) // 4)) % 7,  # N\n",
    "        (19 * (x % 19) + (15 + (x // 100) - ((8 * (x // 100) + 13) // 25) - ((x // 100) // 4)) % 30) % 30,  # d\n",
    "        (2 * (x % 4) + 4 * (x % 7) + 6 * ((19 * (x % 19) + (15 + (x // 100) - ((8 * (x // 100) + 13) // 25) - ((x // 100) // 4)) % 30) % 30) + (4 + (x // 100) - ((x // 100) // 4)) % 7) % 7  # e\n",
    "    )"
   ],
   "outputs": [],
   "execution_count": null
  },
  {
   "metadata": {},
   "cell_type": "markdown",
   "source": "### Funktionale Bestimmung des Osterdatums mithilfe der Gaußschen Osterformel",
   "id": "7635639ab59c7f3e"
  },
  {
   "metadata": {},
   "cell_type": "code",
   "source": [
    "def osterdatum(x):\n",
    "    if osterformel(x) > 31: return osterformel(x) - 31, 4\n",
    "    else: return osterformel(x), 3"
   ],
   "id": "31f486cc2106068f",
   "outputs": [],
   "execution_count": null
  },
  {
   "metadata": {},
   "cell_type": "markdown",
   "source": "### Funktionale Bestimmung der beweglichen Feiertage basierend auf dem Osterdatum",
   "id": "58305764dfdd07f9"
  },
  {
   "metadata": {},
   "cell_type": "code",
   "source": [
    "def karfreitag(x):\n",
    "    return (\n",
    "        lambda ostersonntag_tag, ostersonntag_monat: (\n",
    "            (ostersonntag_tag - 2, ostersonntag_monat) if ostersonntag_tag > 2\n",
    "            else (31 + ostersonntag_tag - 2, ostersonntag_monat - 1)\n",
    "        )\n",
    "    )(*osterdatum(x))\n",
    "\n",
    "def fastnacht(x):\n",
    "    return (\n",
    "        lambda ostersonntag_tag, ostersonntag_monat: (\n",
    "            (ostersonntag_tag + 31 - 47, ostersonntag_monat - 1) if ostersonntag_tag + 31 - 47 > 0\n",
    "            else (31 + ostersonntag_tag + 31 - 47, ostersonntag_monat - 2)\n",
    "        )\n",
    "    )(*osterdatum(x))\n",
    "\n",
    "def himmelfahrt(x):\n",
    "    return (\n",
    "        lambda ostersonntag_tag, ostersonntag_monat: (\n",
    "            (ostersonntag_tag + 40, ostersonntag_monat)\n",
    "            if ostersonntag_tag + 40 <= 31\n",
    "            else (\n",
    "                (ostersonntag_tag + 40 - 31, ostersonntag_monat + 1)\n",
    "                if ostersonntag_tag + 40 - 31 <= 31\n",
    "                else (ostersonntag_tag + 40 - 31 - 31, ostersonntag_monat + 2)\n",
    "            )\n",
    "        )\n",
    "    )(*osterdatum(x))\n",
    "\n",
    "def pfingsten(x):\n",
    "    return (\n",
    "        lambda ostersonntag_tag, ostersonntag_monat: (\n",
    "            (ostersonntag_tag + 49 - 61, ostersonntag_monat + 2) if ostersonntag_tag + 49 > 61\n",
    "            else (ostersonntag_tag + 49 - 31, ostersonntag_monat + 1) \n",
    "        )\n",
    "    )(*osterdatum(x))"
   ],
   "id": "724d58dac19001c",
   "outputs": [],
   "execution_count": null
  },
  {
   "metadata": {},
   "cell_type": "markdown",
   "source": "### Testloop – tabellarische Ausgabe der Feiertage der Jahre 2020 – 2030",
   "id": "f4febbde98711290"
  },
  {
   "metadata": {},
   "cell_type": "code",
   "source": [
    "def format_datum(datum):\n",
    "    return f\"{datum[0]}.{datum[1]}.\"\n",
    "\n",
    "def tabellarische_ausgabe():\n",
    "    return \"\\n\".join(\n",
    "        map(\n",
    "            lambda jahr: f\"{jahr}\\t{format_datum(fastnacht(jahr))}\\t{format_datum(karfreitag(jahr))}\\t{format_datum(osterdatum(jahr))}\\t{format_datum(himmelfahrt(jahr))}\\t{format_datum(pfingsten(jahr))}\",\n",
    "            range(2020, 2031)\n",
    "        )\n",
    "    )\n",
    "\n",
    "print(f\"Jahr\\tFastn.\\tKarfr.\\tOstern\\tHim.\\tPfingsten\\n{ tabellarische_ausgabe() }\")"
   ],
   "id": "fcc670ec75ee2624",
   "outputs": [],
   "execution_count": null
  }
 ],
 "metadata": {
  "kernelspec": {
   "display_name": "Python 3",
   "language": "python",
   "name": "python3"
  },
  "language_info": {
   "codemirror_mode": {
    "name": "ipython",
    "version": 2
   },
   "file_extension": ".py",
   "mimetype": "text/x-python",
   "name": "python",
   "nbconvert_exporter": "python",
   "pygments_lexer": "ipython2",
   "version": "2.7.6"
  }
 },
 "nbformat": 4,
 "nbformat_minor": 5
}
