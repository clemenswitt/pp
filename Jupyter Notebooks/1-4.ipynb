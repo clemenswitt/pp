{
 "cells": [
  {
   "metadata": {},
   "cell_type": "markdown",
   "source": [
    "# Aufgabe 1.4 – Ermittlung ggT\n",
    "Überlegen sie sich zum folgenden Problem einen iterativen Algorithmus als NSD (Struktogramm) und entwickeln Sie ein dazugehöriges Python-Programm. Es sollen jeweils zwei ganze Zahlen als Paar eingelesen werden.\n",
    "Erweitern Sie das Programm um das zyklische Einlesen von 10 Zahlenpaaren (Nutzen Sie eine Iteration mittels der do-while-Schleife)."
   ],
   "id": "22e1d2814102091a"
  },
  {
   "metadata": {},
   "cell_type": "markdown",
   "source": [
    "### Nassi-Shneiderman-Diagramme\n",
    "\n",
    "| GGT-Funktion iterativ |          GGT-Funktion rekursiv           | Funktionsaufruf (Beispiel) |\n",
    "|:---------------------:|:----------------------------------------:|:-----------------------------------------------:|\n",
    "| ![](../Assets/Export/1-4_GGT-iterative.png) | ![](../Assets/Export/1-4_GGT-recursive.png) |           ![](../Assets/Export/1-4.png)            |\n"
   ],
   "id": "23bcd7a81d6bad74"
  },
  {
   "metadata": {},
   "cell_type": "markdown",
   "source": "### Euklidischer Algorithmus – rekursive Implementierung",
   "id": "39f0c097a47a2fa8"
  },
  {
   "cell_type": "code",
   "id": "initial_id",
   "metadata": {
    "collapsed": true
   },
   "source": [
    "def ggt_recursive(a, b):\n",
    "    if b == 0:\n",
    "        return a\n",
    "    return ggt_recursive(b, a % b)"
   ],
   "outputs": [],
   "execution_count": null
  },
  {
   "metadata": {},
   "cell_type": "markdown",
   "source": "### Euklidischer Algorithmus – iterative Implementierung",
   "id": "819b5e65cb47b168"
  },
  {
   "metadata": {},
   "cell_type": "code",
   "source": [
    "def ggt_iterative(a, b):\n",
    "    while b != 0:\n",
    "        a, b = b, a % b\n",
    "    return a"
   ],
   "id": "edbba6f3cc7c0cdb",
   "outputs": [],
   "execution_count": null
  },
  {
   "metadata": {},
   "cell_type": "markdown",
   "source": "### Eingabeschleife",
   "id": "f8b9868408f1f130"
  },
  {
   "metadata": {},
   "cell_type": "code",
   "source": [
    "counter = 0\n",
    "max_counter = 10\n",
    "\n",
    "while counter < max_counter:\n",
    "    counter += 1\n",
    "    print(ggt_recursive(int(input('Zahl 1 eingeben: ')), int(input('Zahl 2 eingeben: '))))"
   ],
   "id": "841210f026a045c1",
   "outputs": [],
   "execution_count": null
  }
 ],
 "metadata": {
  "kernelspec": {
   "display_name": "Python 3",
   "language": "python",
   "name": "python3"
  },
  "language_info": {
   "codemirror_mode": {
    "name": "ipython",
    "version": 2
   },
   "file_extension": ".py",
   "mimetype": "text/x-python",
   "name": "python",
   "nbconvert_exporter": "python",
   "pygments_lexer": "ipython2",
   "version": "2.7.6"
  }
 },
 "nbformat": 4,
 "nbformat_minor": 5
}
