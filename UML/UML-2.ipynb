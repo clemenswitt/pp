{
 "cells": [
  {
   "metadata": {},
   "cell_type": "markdown",
   "source": [
    "# UML-2: UML-Klassendiagramme mit Assoziationen und Vererbungen\n",
    "\n",
    "Erstellen Sie ein UML-Klassendiagramm für die Bestellverwaltung eines Onlineshops:\n",
    "- Jede getätigte Bestellung wird in einem Warenkorb aufgenommen. \n",
    "- Die hinzugefügten Artikel werden dabei in einer Liste gesammelt. (Schreibweise: Artikel[]) Artikel besitzen eine Bezeichnung, einen Preis und eine Angabe der Lieferbarkeit, welche sie bei Auswahl automatisch anzeigen. \n",
    "- Um eine Bestellung ausliefern zu können, muss sie einem Kunden zugeordnet werden. \n",
    "- Jeder Kunde besitzt eine Kundennummer und eine Adresse. \n",
    "- Vom Kunden dem Warenkorb hinzugefügte Artikel können auch wieder entfernt werden. \n",
    "- Bei Abschluss der Bestellung berechnet der Warenkorb automatisch den Gesamtpreis aller hinzugefügten Artikel."
   ],
   "id": "613ea3990eab501f"
  },
  {
   "metadata": {},
   "cell_type": "markdown",
   "source": [
    "### Lösung:\n",
    "\n",
    "![](../Assets/UML-2.png)"
   ],
   "id": "19b3bdbdc1b17e62"
  },
  {
   "metadata": {},
   "cell_type": "markdown",
   "source": "",
   "id": "3f508df08720f187"
  }
 ],
 "metadata": {
  "kernelspec": {
   "display_name": "Python 3",
   "language": "python",
   "name": "python3"
  },
  "language_info": {
   "codemirror_mode": {
    "name": "ipython",
    "version": 2
   },
   "file_extension": ".py",
   "mimetype": "text/x-python",
   "name": "python",
   "nbconvert_exporter": "python",
   "pygments_lexer": "ipython2",
   "version": "2.7.6"
  }
 },
 "nbformat": 4,
 "nbformat_minor": 5
}
