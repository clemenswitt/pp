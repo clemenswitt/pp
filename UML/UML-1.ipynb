{
 "cells": [
  {
   "metadata": {},
   "cell_type": "markdown",
   "source": [
    "# UML-1: UML-Klassendiagramme mit Assoziationen und Vererbungen\n",
    "\n",
    "Entwerfen Sie ein UML-Klassendiagramm für ein Banksystem mit folgenden Eigenschaften:\n",
    "- Personen können Berater oder Kunden sein. Jeder Person ist eine Nummer zugeordnet.\n",
    "- Jeder Kunde besitzt ein Konto und einen zugeordneten Berater.\n",
    "- Konten besitzen einen Betrag und können in Dollar oder Euro geführt werden."
   ],
   "id": "e25054d028fe7a89"
  },
  {
   "metadata": {},
   "cell_type": "markdown",
   "source": [
    "### Lösung:\n",
    "\n",
    "![](../Assets/UML-1.png)"
   ],
   "id": "e95c72bdfa630141"
  },
  {
   "metadata": {},
   "cell_type": "code",
   "outputs": [],
   "execution_count": null,
   "source": "",
   "id": "59b3bf688d934dc9"
  }
 ],
 "metadata": {
  "kernelspec": {
   "display_name": "Python 3",
   "language": "python",
   "name": "python3"
  },
  "language_info": {
   "codemirror_mode": {
    "name": "ipython",
    "version": 2
   },
   "file_extension": ".py",
   "mimetype": "text/x-python",
   "name": "python",
   "nbconvert_exporter": "python",
   "pygments_lexer": "ipython2",
   "version": "2.7.6"
  }
 },
 "nbformat": 4,
 "nbformat_minor": 5
}
