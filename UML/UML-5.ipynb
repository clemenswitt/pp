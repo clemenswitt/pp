{
 "cells": [
  {
   "metadata": {},
   "cell_type": "markdown",
   "source": [
    "# UML-5: UML-Klassendiagramme mit Assoziationen und Vererbungen\n",
    "\n",
    "Entwerfen Sie ein UML-Klassendiagramm, welches folgende Struktur implementiert:\n",
    "- Der Imperator hat die imperiale Verwaltung angewiesen, eine Übersicht über den Materialbedarf der imperialen Raumflotte zu erstellen:\n",
    "    - Kampfgüter sind entweder Raumfahrzeuge oder Kämpfer. \n",
    "    - Jedes Raumfahrzeug hat einen Captain, bei dem der Name, seine Erfahrung als Wert von 0 bis 5 und sein Alter verfügbar ist. \n",
    "        - Raumfahrzeuge sind Todessterne oder Imperiale Zerstörer. \n",
    "        - Imperiale Zerstörer besitzen zusätzlich eine Raumfähre, die auch als Raumfahrzeuge klassifiziert wird. \n",
    "    - Als Kämpfer werden Stormtrooper und Sith erfasst.\n",
    "        - Kämpfer haben einen Gesundheitswert, der zwischen 0 – 100 bemessen wird. \n",
    "            - Sith besitzen ein Lichtschwert, das eine Kristallfarbe und einen Energiewert zwischen 0 und 100 aufweist. \n",
    "            - Stormtrooper besitzen eine Rüstung, bei der nur der Zustand der Rüstung als Prozentzahl erfasst wird. "
   ],
   "id": "e6f7be67e2fae325"
  },
  {
   "metadata": {},
   "cell_type": "markdown",
   "source": [
    "### Lösung:\n",
    "\n",
    "![](../Assets/UML-5.png)"
   ],
   "id": "f8aed614f94259b8"
  },
  {
   "metadata": {},
   "cell_type": "code",
   "outputs": [],
   "execution_count": null,
   "source": "",
   "id": "8270327e02305a16"
  }
 ],
 "metadata": {
  "kernelspec": {
   "display_name": "Python 3",
   "language": "python",
   "name": "python3"
  },
  "language_info": {
   "codemirror_mode": {
    "name": "ipython",
    "version": 2
   },
   "file_extension": ".py",
   "mimetype": "text/x-python",
   "name": "python",
   "nbconvert_exporter": "python",
   "pygments_lexer": "ipython2",
   "version": "2.7.6"
  }
 },
 "nbformat": 4,
 "nbformat_minor": 5
}
