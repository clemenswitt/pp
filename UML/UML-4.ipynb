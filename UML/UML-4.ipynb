{
 "cells": [
  {
   "metadata": {},
   "cell_type": "markdown",
   "source": [
    "# UML-4: Zoo\n",
    "\n",
    "Entwerfen Sie ein UML Klassendiagramm auf Basis folgender Beschreibung:\n",
    "- In einem städtischen Zoo gibt es Besucher, Mitarbeiter und viele Tiere. \n",
    "    - Jedes Tier hat einen eigenen Namen, eine Größe und ein Gewicht. \n",
    "    - Es gibt verschiedene Arten von Tieren: Löwen, Delphine und Papageien.\n",
    "        - Vor einem Löwen sollte man sich in Acht nehmen, da er brüllen und angreifen kann, wenn man ihm zu nah kommt. \n",
    "        - Delfine dagegen tauchen friedlich im Wasser herum. Und die Papageien haben die Fähigkeit, zu sprechen. \n",
    "- Ohne Besucher, die Eintritt bezahlen, kann ein Zoo nicht existieren, da er sich sonst nicht finanzieren kann. \n",
    "- Die Mitarbeiter setzen sich aus Tierpflegern und einem Zoodirektor zusammen. \n",
    "    - Für jeden gibt es eine interne Personalnummer, da der Name allein nicht eindeutig genug ist. \n",
    "    - Ohne Tiefpfleger würden die Tiere verhungern, weil nur diese sie füttern. \n",
    "    - Der Direktor kann Tierpfleger einstellen oder entlassen sowie Tiere kaufen und verkaufen."
   ],
   "id": "98076d75c42100dc"
  },
  {
   "metadata": {},
   "cell_type": "markdown",
   "source": [
    "### Lösung:\n",
    "\n",
    "![](../Assets/UML-4.png)"
   ],
   "id": "2e9a8e5c371b99e5"
  },
  {
   "metadata": {},
   "cell_type": "code",
   "outputs": [],
   "execution_count": null,
   "source": "",
   "id": "8ef445b726ed76b6"
  }
 ],
 "metadata": {
  "kernelspec": {
   "display_name": "Python 3",
   "language": "python",
   "name": "python3"
  },
  "language_info": {
   "codemirror_mode": {
    "name": "ipython",
    "version": 2
   },
   "file_extension": ".py",
   "mimetype": "text/x-python",
   "name": "python",
   "nbconvert_exporter": "python",
   "pygments_lexer": "ipython2",
   "version": "2.7.6"
  }
 },
 "nbformat": 4,
 "nbformat_minor": 5
}
