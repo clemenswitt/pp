{
 "cells": [
  {
   "metadata": {},
   "cell_type": "markdown",
   "source": [
    "# Aufgabe 1.2 – Konstruierbarkeit eines Dreiecks\n",
    "Was bedeutet “Konstruierbarkeit eines Dreiecks“? Erstellen Sie das Programm zwecks der Überprüfung von den Längen der drei Strecken eines Dreiecks. Zusätzlich sollen die Längen der drei Strecken eines Dreiecks per Tastatur eingegeben werden (die längste Strecke zuerst). Der Algorithmus soll überprüfen, ob das Dreieck konstruierbar ist. Wenn ja, dann soll das Dreieck noch auf\n",
    "- Gleichseitigkeit,\n",
    "- Gleichschenkligkeit und\n",
    "- Rechtwinkligkeit \n",
    "\n",
    "überprüft werden. Diese vier Ergebnisse (Konstruierbarkeit, Gleichseitigkeit usw.) sind jeweils als eine Textzeile per printf(), print oder cout auszugeben. Nutzen Sie zum Test folgende Zahlenkombinationen für die drei Seiten:\n",
    "\n",
    "| Seite A | Seite B | Seite C |\n",
    "|---------|---------|---------|\n",
    "| 13      | 5       | 12      |\n",
    "| 11      | 11      | 11      |\n",
    "| 10      | 6       | 8       |\n",
    "| 17      | 8       | 15      |\n",
    "| 5       | 4       | 3       |\n",
    "| 20      | 11      | 11      |\n"
   ],
   "id": "80f203553165db3c"
  },
  {
   "metadata": {},
   "cell_type": "markdown",
   "source": "### Gegebene Testdaten:",
   "id": "e6e0e35b2d1f36e5"
  },
  {
   "metadata": {},
   "cell_type": "code",
   "source": [
    "testdaten = [\n",
    "    [13, 5, 12],\n",
    "    [11, 11, 11],\n",
    "    [10, 6, 8],\n",
    "    [17, 8, 15],\n",
    "    [5, 4, 3],\n",
    "    [20, 11, 11]\n",
    "]"
   ],
   "id": "256cc736c2f61314",
   "outputs": [],
   "execution_count": null
  },
  {
   "metadata": {},
   "cell_type": "markdown",
   "source": [
    "## Konstruierbarkeit eines Dreiecks bestimmen\n",
    "Die Konstruierbarkeit eines Dreiecks kann mithilfe der **Dreiecksungleichung** bestimmt werden. Damit ein Dreieck konstruiert werden kann, müssen folgende Ungleichungen erfüllt sein:\n",
    "- $a < b + c$\n",
    "- $b < a + c$\n",
    "- $c < a + b$"
   ],
   "id": "e8c5606095c14b5d"
  },
  {
   "cell_type": "code",
   "id": "initial_id",
   "metadata": {
    "collapsed": true
   },
   "source": [
    "def dreiecksungleichung(a, b, c):\n",
    "    return (a < b + c) and (b < a + c) and (c < a + b)"
   ],
   "outputs": [],
   "execution_count": null
  },
  {
   "metadata": {},
   "cell_type": "markdown",
   "source": [
    "### Gleichseitigkeit\n",
    "Damit ein Dreieck gleichseitig ist, müssen alle Seiten die gleiche Länge besitzen. \n",
    "- Hierzu können die Parameter `a`, `b` und `c` zunächst mittels `[a, b, c]` in eine Liste konvertiert werden.\n",
    "- Durch `v == a for v in [a, b, c]` wird anschließend iterativ geprüft, ob alle Werte der Liste mit dem Parameter `a` übereinstimmen. Ist dies der Fall, liefert der Vergleich den Rückgabewert `True`, andernfalls `False`.\n",
    "- Durch die Kapselung des Vergleichsausdrucks in eckigen Klammern `[ … ]` werden die Rückgabewerte in einer Liste zusammengefasst. Der Vergleich der Parameter `a=1`, `b=2` und `c=1` liefert damit beispielsweise die Liste `[True, False, True]`.\n",
    "- Mithilfe der Buildin-Funktion `all()` kann nun überprüft werden, ob alle Rückgabewerte der Liste den Wert `True` besitzen.  "
   ],
   "id": "1f2390ba9c470a7a"
  },
  {
   "metadata": {},
   "cell_type": "code",
   "source": [
    "def gleichseitigkeit(a, b, c):\n",
    "    return all([v == a for v in [a, b, c]])"
   ],
   "id": "c28a78893c9475ab",
   "outputs": [],
   "execution_count": null
  },
  {
   "metadata": {},
   "cell_type": "markdown",
   "source": [
    "### Rechtwinkligkeit\n",
    "Damit ein Dreieck rechtwinklig ist, muss der Satz des Pythagoras erfüllt sein: $c^2=a^2+b^2$. Der Parameter $c$ steht hierbei für die Hypotenuse des Dreiecks. Da die Parameter `a`, `b` und `c` in beliebig übergeben werden können, ist zunächst die Ermittlung der Hypotenuse erforderlich.\n",
    "- Hierzu kann die Buildin-Funktion `sorted()` verwendet werden. Ihr werden die Parameter `a`, `b` und `c` in Form einer Liste `[a, b, c]` übergeben. Die Funktion sortiert die Werte der Liste anschließend nach ihrer Größe. Da Python-Funktionen mehere Rückgabewerte liefern können, werden die Werte der sortierten anschließend auf die Variablen `a`, `b` und `c` zurückübertragen. Durch die Sortierung besitzt `c` nun sicher den größten Wert.\n",
    "- Die Überprüfung des Satz des Pythagoras erfolgt nun durch die Quadrierung der Seitenlängen: `c**2 == a**2 + b**2`."
   ],
   "id": "9f385b812aec6cca"
  },
  {
   "metadata": {},
   "cell_type": "code",
   "source": [
    "def rechtwinkligkeit(a, b, c):\n",
    "    a, b, c = sorted([a, b, c]) # C nun garantiert größter Wert -> Hypotenuse\n",
    "    return c**2 == a**2 + b**2"
   ],
   "id": "ffeaddbedc1de856",
   "outputs": [],
   "execution_count": null
  },
  {
   "metadata": {},
   "cell_type": "markdown",
   "source": [
    "## Gleichschenkligkeit:\n",
    "Damit ein Dreieck gleichschenklig ist, müssen mindestens zwei Seiten die gleiche Länge besitzen."
   ],
   "id": "e81b562b164ea9fd"
  },
  {
   "metadata": {},
   "cell_type": "code",
   "source": [
    "def gleichschenkligkeit(a, b, c):\n",
    "    return a == b or b == c or a == c"
   ],
   "id": "5649a389fb2589b6",
   "outputs": [],
   "execution_count": null
  },
  {
   "metadata": {},
   "cell_type": "markdown",
   "source": "### Testfunktion",
   "id": "778656f934a2adb"
  },
  {
   "metadata": {},
   "cell_type": "code",
   "source": [
    "def test(a, b, c):\n",
    "    if not dreiecksungleichung(a, b, c): return 'Kein Dreieck konstruierbar'\n",
    "    if gleichschenkligkeit(a, b, c) and gleichseitigkeit(a, b, c): return 'Das Dreieck ist gleichschenklig und gleichseitig'\n",
    "    elif gleichschenkligkeit(a, b, c): return 'Das Dreieck ist gleichschenklig'\n",
    "    elif gleichseitigkeit(a, b, c): return 'Das Dreieck ist gleichseitig'\n",
    "    else: return 'Das Dreieck ist nicht gleichschenklig und nicht gleichseitig'"
   ],
   "id": "6929b0dd36643734",
   "outputs": [],
   "execution_count": null
  },
  {
   "metadata": {},
   "cell_type": "markdown",
   "source": "### Testfunktion auf Testdaten anwenden",
   "id": "3b6450fcb04ab7bd"
  },
  {
   "metadata": {},
   "cell_type": "code",
   "source": [
    "def test_all(dreiecke):\n",
    "    for dreieck in dreiecke:\n",
    "        print(test(dreieck[0], dreieck[1], dreieck[2]))\n",
    "        \n",
    "test_all(testdaten)"
   ],
   "id": "52beb183487db03a",
   "outputs": [],
   "execution_count": null
  }
 ],
 "metadata": {
  "kernelspec": {
   "display_name": "Python 3",
   "language": "python",
   "name": "python3"
  },
  "language_info": {
   "codemirror_mode": {
    "name": "ipython",
    "version": 2
   },
   "file_extension": ".py",
   "mimetype": "text/x-python",
   "name": "python",
   "nbconvert_exporter": "python",
   "pygments_lexer": "ipython2",
   "version": "2.7.6"
  }
 },
 "nbformat": 4,
 "nbformat_minor": 5
}
