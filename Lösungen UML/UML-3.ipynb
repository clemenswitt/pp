{
 "cells": [
  {
   "metadata": {},
   "cell_type": "markdown",
   "source": [
    "# UML-3: IT-Unternehmen\n",
    "\n",
    "Stellen Sie folgende Struktur als UML-Klassendiagramm dar:\n",
    "- Ein IT-Unternehmen bedient Privat- und Firmenkunden, wobei jedem Kunden unabhängig von seiner Zuordnung zunächst eine Kundennummer zugeordnet wird. \n",
    "- Von Privatkunden werden Adresse und Kreditkartennummer erfasst. \n",
    "- Besonders umsatzstarke Kunden werden als Stammkunden deklariert und erhalten ein Kreditrahmen. \n",
    "- Von Firmenkunden werden der Firmenname und ein entsprechender Ansprechpartner vermerkt, welcher als Mitarbeiter deklariert wird. \n",
    "- Von Mitarbeitern werden Name, Adresse, E-Mail-Adresse und Telefonnummer vermerkt. \n",
    "- Alle Adressen bestehen aus Straße, Hausnummer, Ort und Postleitzahl."
   ],
   "id": "eb7d8507fefddf96"
  },
  {
   "metadata": {},
   "cell_type": "markdown",
   "source": [
    "### Lösung:\n",
    "\n",
    "![](../Assets/UML-3.png)"
   ],
   "id": "9f1ee228be3e8b87"
  },
  {
   "metadata": {},
   "cell_type": "code",
   "outputs": [],
   "execution_count": null,
   "source": "",
   "id": "4797548a27f060b6"
  }
 ],
 "metadata": {
  "kernelspec": {
   "display_name": "Python 3",
   "language": "python",
   "name": "python3"
  },
  "language_info": {
   "codemirror_mode": {
    "name": "ipython",
    "version": 2
   },
   "file_extension": ".py",
   "mimetype": "text/x-python",
   "name": "python",
   "nbconvert_exporter": "python",
   "pygments_lexer": "ipython2",
   "version": "2.7.6"
  }
 },
 "nbformat": 4,
 "nbformat_minor": 5
}
