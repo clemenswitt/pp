{
 "cells": [
  {
   "metadata": {},
   "cell_type": "markdown",
   "source": [
    "# UML-6: E-Post-System: Anwendungsfalldiagramm\n",
    "\n",
    "Modellieren Sie ein geeignetes Anwendungsfalldiagramm für folgenden Sachverhalt:\n",
    "\n",
    "Das Konzept des E-Post-Briefes überträgt die Vorteile des klassischen Briefs in das Internet und bietet damit auch in der elektronischen Welt eine verbindliche, vertrauliche und verlässliche Schriftkommunikation. E-Post-Briefe werden vom E-Post-Kunden an einem Computer geschrieben, versendet und empfangen. Darüber hinaus kann der E-Post-Kunde seine E-Post-Briefe in einem elektronischen Briefkasten verwalten. Das Besondere ist, dass dem Empfänger der E-Post-Brief nicht nur elektronisch, sondern auch klassisch per Postbote zugestellt werden kann. Empfänger von E-Post-Briefen können Personen mit beliebiger Email- oder Postadresse sein. Jede Person kann E-Post-Kunde werden, indem sie sich vor der ersten Nutzung eines E-Post-Services registriert."
   ],
   "id": "9606bfb26954ca43"
  },
  {
   "metadata": {},
   "cell_type": "markdown",
   "source": [
    "### Lösung\n",
    "\n",
    "![](../Assets/UML-6.png)"
   ],
   "id": "54cfd6a8d64f0ec8"
  },
  {
   "metadata": {},
   "cell_type": "code",
   "outputs": [],
   "execution_count": null,
   "source": "",
   "id": "a079c28ec0af47d7"
  }
 ],
 "metadata": {
  "kernelspec": {
   "display_name": "Python 3",
   "language": "python",
   "name": "python3"
  },
  "language_info": {
   "codemirror_mode": {
    "name": "ipython",
    "version": 2
   },
   "file_extension": ".py",
   "mimetype": "text/x-python",
   "name": "python",
   "nbconvert_exporter": "python",
   "pygments_lexer": "ipython2",
   "version": "2.7.6"
  }
 },
 "nbformat": 4,
 "nbformat_minor": 5
}
