{
 "cells": [
  {
   "metadata": {},
   "cell_type": "markdown",
   "source": [
    "# UML-7: E-Post-System: Verhaltenszustandsautomat\n",
    "\n",
    "Modellieren Sie auf Basis der folgenden Beschreibung ein UML-verhaltenszustandsdiagramm für den Anwendungsfall der Registrierung als E-Post-Kunde!\n",
    "\n",
    "1. Zunächst wird ein (Benutzer-)Name ausgewählt. Falls der Name bereits vergeben ist, werden vom E-Post-Provider alternative Namen vorgeschlagen, von denen einer ausgewählt werden kann. Der ausgewählte Name wird dann für den späteren E-Post-Kunden reserviert.\n",
    "\n",
    "2. Der E-Post-Provider versendet einen Registrierungscode. Damit ist der spätere E-Post-Kunde im System registriert, aber noch nicht freigeschalten. Mit dem Registrierungscode muss er jetzt persönliche Daten und ein Passwort festlegen. Im Ergebnis dessen kann sich der spätere E-Post-Kunde einen Coupon für ein Identifizierungsverfahren beim Post-Provider ausdrucken.\n",
    "\n",
    "3. Unter Vorlage des Coupons und des Personalausweises identifiziert sich der spätere E-Post-Kunde in einer Postfiliale. Damit wird sichergestellt, dass die Person sich wirklich unter ihrem eigenen Namen und der richtigen Postadresse registriert.\n",
    "\n",
    "4. Nach erfolgreicher Identifikation wird der E-Post-Provider den E-Post-Kunden freischalten und diesen zum Abschluss des Registrierungsverfahrens mit einer SMS an das Handy des E-Post-Kunden benachrichtigen."
   ],
   "id": "f1c4d7a85b3e41e2"
  },
  {
   "metadata": {},
   "cell_type": "markdown",
   "source": [
    "### Lösung\n",
    "\n",
    "![](../Assets/UML-7.png)"
   ],
   "id": "ff1d99615ab06610"
  },
  {
   "metadata": {},
   "cell_type": "code",
   "outputs": [],
   "execution_count": null,
   "source": "",
   "id": "e28e8d4f67752cab"
  }
 ],
 "metadata": {
  "kernelspec": {
   "display_name": "Python 3",
   "language": "python",
   "name": "python3"
  },
  "language_info": {
   "codemirror_mode": {
    "name": "ipython",
    "version": 2
   },
   "file_extension": ".py",
   "mimetype": "text/x-python",
   "name": "python",
   "nbconvert_exporter": "python",
   "pygments_lexer": "ipython2",
   "version": "2.7.6"
  }
 },
 "nbformat": 4,
 "nbformat_minor": 5
}
