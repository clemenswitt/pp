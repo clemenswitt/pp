{
 "cells": [
  {
   "metadata": {},
   "cell_type": "markdown",
   "source": [
    "# Aufgabe 1.6 – 6x6 würfeln\n",
    "Es soll solange mit einem Würfel gewürfelt werden, bis eine zuvor eingegebene Anzahl von Sechsern erreicht ist!  Zum Würfeln steht die Funktion „Zahl=Wuerfel()“zur Verfügung, die das Ergebnis in „Zahl“ ablegt. Beschreiben Sie den Algorithmus in Form eines PAP. Programmieren Sie diesen Algorithmus. Zählen Sie die Anzahl der Würfelversuche und berechnen Sie die Summe aller gewürfelten Zahlen. "
   ],
   "id": "c6f158c4d6f562d8"
  },
  {
   "metadata": {
    "ExecuteTime": {
     "end_time": "2024-10-10T13:46:45.602493Z",
     "start_time": "2024-10-10T13:46:45.600339Z"
    }
   },
   "cell_type": "code",
   "source": [
    "from random import randint\n",
    "\n",
    "def wuerfel():\n",
    "    return randint(1, 6)"
   ],
   "id": "ca3404c4bbd74253",
   "outputs": [],
   "execution_count": 1
  },
  {
   "metadata": {
    "ExecuteTime": {
     "end_time": "2024-10-10T13:49:12.440735Z",
     "start_time": "2024-10-10T13:49:11.156036Z"
    }
   },
   "cell_type": "code",
   "source": [
    "numbers = []\n",
    "six_count = int(input(\"Anzahl Sechsen: \"))\n",
    "\n",
    "while six_count != 0:\n",
    "    numbers.append(wuerfel())\n",
    "    if numbers[-1] == 6:\n",
    "        six_count -= 1\n",
    "        \n",
    "print(f\"Die gewünschte Anzahl an Sechsen wurde erreicht. Es wurden {len(numbers)} Versuche benötigt. Die Summe der gewürfelten Zahlen beträgt {sum(numbers)}.\")"
   ],
   "id": "7591a1a0645e7c6c",
   "outputs": [
    {
     "name": "stdout",
     "output_type": "stream",
     "text": [
      "Die gewünschte Anzahl an Sechsen wurde erreicht. Es wurden 3 Versuche benötigt. Die Summe der gewürfelten Zahlen beträgt 9.\n"
     ]
    }
   ],
   "execution_count": 5
  },
  {
   "cell_type": "code",
   "id": "initial_id",
   "metadata": {
    "collapsed": true,
    "ExecuteTime": {
     "end_time": "2024-10-10T13:46:48.468355Z",
     "start_time": "2024-10-10T13:46:48.466458Z"
    }
   },
   "source": [
    ""
   ],
   "outputs": [],
   "execution_count": 2
  }
 ],
 "metadata": {
  "kernelspec": {
   "display_name": "Python 3",
   "language": "python",
   "name": "python3"
  },
  "language_info": {
   "codemirror_mode": {
    "name": "ipython",
    "version": 2
   },
   "file_extension": ".py",
   "mimetype": "text/x-python",
   "name": "python",
   "nbconvert_exporter": "python",
   "pygments_lexer": "ipython2",
   "version": "2.7.6"
  }
 },
 "nbformat": 4,
 "nbformat_minor": 5
}
