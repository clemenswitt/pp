{
 "cells": [
  {
   "metadata": {},
   "cell_type": "markdown",
   "source": "# Grundlagen der funktionalen Programmierung",
   "id": "187838531050b908"
  },
  {
   "metadata": {},
   "cell_type": "markdown",
   "source": [
    "### Unveränderlichkeit\n",
    "\n",
    "Einmal erzeugte Datenstrukturen werden nach ihrer Erstellung nicht mehr verändert; jede \"Änderung\" erfolgt stattdessen durch das Anlegen einer neuen Kopie. Auf diese Weise wird sichergestellt, dass Funktionen frei von Seiteneffekten sind, da sie weder auf globale Zustände zugreifen noch diese verändern."
   ],
   "id": "e76ed2ab31fc6cc0"
  },
  {
   "cell_type": "code",
   "id": "initial_id",
   "metadata": {
    "collapsed": true
   },
   "source": [
    "original_list = [1, 2, 3, 4]\n",
    "\n",
    "# Erzeugt eine neue Liste mit verdoppelten Werten, ohne die ursprüngliche zu ändern.\n",
    "doubled_list = [x * 2 for x in original_list]\n",
    "\n",
    "print(f\"Original List: {original_list}, Doubled List: {doubled_list}\")"
   ],
   "outputs": [],
   "execution_count": null
  },
  {
   "metadata": {},
   "cell_type": "markdown",
   "source": [
    "### Reine Funktionen\n",
    "\n",
    "Reine Funktionen liefern für identische Eingabewerten stets dieselben Ausgabewerte und beeinflussen dabei keinerlei äußere Zustände – d.h., sie sind frei von Seiteneffekten."
   ],
   "id": "bb0cb875a57f9725"
  },
  {
   "metadata": {},
   "cell_type": "code",
   "source": [
    "square = 0\n",
    "def impure_square(x):\n",
    "    global square\n",
    "    square = x * x\n",
    "    return square\n",
    "\n",
    "def pure_square(x):\n",
    "    return x**2"
   ],
   "id": "3db6b76a4deabf7d",
   "outputs": [],
   "execution_count": null
  },
  {
   "metadata": {},
   "cell_type": "markdown",
   "source": [
    "### Verwendung von Rekursion anstelle von Schleifen \n",
    "\n",
    "Die Verwendung von Schleifen kann zu Seiteneffekten führen, da dabei Teilergebnisse und Zählvariablen wiederholt verändert werden. In der funktionalen Programmierung wird aus diesem Grund bevorzugt Rekursion eingesetzt. "
   ],
   "id": "beea57a0cbc7cc1d"
  },
  {
   "metadata": {},
   "cell_type": "code",
   "source": [
    "list = [1, 2, 3, 4]\n",
    "\n",
    "def list_sum_iterative(list):\n",
    "    sum_list = 0\n",
    "    for i in range(len(list)):\n",
    "        sum_list += list[i]\n",
    "    return sum_list\n",
    "\n",
    "def list_sum_recursive(list):\n",
    "    return 0 if not list else list[0] + list_sum_recursive(list[1:])\n",
    "        \n",
    "print(list_sum_iterative(list))\n",
    "print(list_sum_recursive(list))"
   ],
   "id": "eac51fb491f982c",
   "outputs": [],
   "execution_count": null
  },
  {
   "metadata": {},
   "cell_type": "markdown",
   "source": [
    "### Lambda-Funktionen\n",
    "\n",
    "Lambda-Funktionen sind anonyme, kompakte Funktionen, die ohne expliziten Namen definiert werden und direkt zur Ausführung von einfachen Ausdrücken verwendet werden können."
   ],
   "id": "25dc8ffa984c40a0"
  },
  {
   "metadata": {},
   "cell_type": "code",
   "source": [
    "l_square = lambda x: x**2\n",
    "print(l_square(2))\n",
    "\n",
    "# Inline-Definition und direkter Aufruf einer Lambda-Funktion\n",
    "print((lambda x: x**2)(2))"
   ],
   "id": "3897838ab0640551",
   "outputs": [],
   "execution_count": null
  },
  {
   "metadata": {},
   "cell_type": "markdown",
   "source": [
    "### Funktionen höherer Ordnung\n",
    "\n",
    "Funktionen können Funktionen als Argumente erhalten und als Ergebnis liefern. "
   ],
   "id": "2eed17f7e77d5b94"
  },
  {
   "metadata": {},
   "cell_type": "code",
   "source": [
    "from functools import reduce\n",
    "\n",
    "list = [1, 2, 3, 4]\n",
    "\n",
    "def add(x, y):\n",
    "    return x + y\n",
    "\n",
    "print(reduce(add, original_list))\n",
    "\n",
    "# Übergabe von Add als Lambda-Funktion\n",
    "print(reduce((lambda x, y: x + y), list))"
   ],
   "id": "ecc8d314b129ed93",
   "outputs": [],
   "execution_count": null
  }
 ],
 "metadata": {
  "kernelspec": {
   "display_name": "Python 3",
   "language": "python",
   "name": "python3"
  },
  "language_info": {
   "codemirror_mode": {
    "name": "ipython",
    "version": 2
   },
   "file_extension": ".py",
   "mimetype": "text/x-python",
   "name": "python",
   "nbconvert_exporter": "python",
   "pygments_lexer": "ipython2",
   "version": "2.7.6"
  }
 },
 "nbformat": 4,
 "nbformat_minor": 5
}
